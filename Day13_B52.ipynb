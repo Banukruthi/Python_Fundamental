{
 "cells": [
  {
   "cell_type": "code",
   "execution_count": null,
   "id": "44007031",
   "metadata": {},
   "outputs": [],
   "source": [
    "File handling in python:"
   ]
  },
  {
   "cell_type": "code",
   "execution_count": null,
   "id": "92e2ac05",
   "metadata": {},
   "outputs": [],
   "source": [
    "1. How to load the data\n",
    "2. How to read the data\n",
    "3. How to write the data\n",
    "4. How to append the data"
   ]
  },
  {
   "cell_type": "code",
   "execution_count": null,
   "id": "4cad4ea3",
   "metadata": {},
   "outputs": [],
   "source": []
  },
  {
   "cell_type": "code",
   "execution_count": null,
   "id": "ac83da07",
   "metadata": {},
   "outputs": [],
   "source": [
    "1. How toload the data"
   ]
  },
  {
   "cell_type": "code",
   "execution_count": null,
   "id": "b5e5ce46",
   "metadata": {},
   "outputs": [],
   "source": [
    "open a note pad(text document) write somehting and save it on desktop or somewhere\n",
    "Then on jupyter click on upload then select the text document whatever you created and saved on desktop click ok and then click on upload the it will upload to the jupyter path"
   ]
  },
  {
   "cell_type": "code",
   "execution_count": null,
   "id": "dbc9980c",
   "metadata": {},
   "outputs": [],
   "source": []
  },
  {
   "cell_type": "code",
   "execution_count": null,
   "id": "aba1d799",
   "metadata": {},
   "outputs": [],
   "source": [
    "2. How to read the data."
   ]
  },
  {
   "cell_type": "code",
   "execution_count": 2,
   "id": "f7dfd71d",
   "metadata": {},
   "outputs": [
    {
     "name": "stdout",
     "output_type": "stream",
     "text": [
      "123\n",
      "456\n",
      "789\n"
     ]
    }
   ],
   "source": [
    "with open ('numbers.txt') as file_object:\n",
    "    content = file_object.read()\n",
    "    print(content)"
   ]
  },
  {
   "cell_type": "code",
   "execution_count": null,
   "id": "fa35ab1a",
   "metadata": {},
   "outputs": [],
   "source": [
    "here file_object is the alias we can give anything x,y  =====> we have to declare the alias name\n",
    "content also we can give anything a,b"
   ]
  },
  {
   "cell_type": "code",
   "execution_count": 3,
   "id": "a06762e6",
   "metadata": {},
   "outputs": [
    {
     "name": "stdout",
     "output_type": "stream",
     "text": [
      "123\n",
      "456\n",
      "789\n"
     ]
    }
   ],
   "source": [
    "with open('numbers.txt') as a:\n",
    "    b = a.read()\n",
    "    print(b)"
   ]
  },
  {
   "cell_type": "code",
   "execution_count": 4,
   "id": "e50f08a6",
   "metadata": {},
   "outputs": [],
   "source": [
    "file = 'numbers.txt'"
   ]
  },
  {
   "cell_type": "code",
   "execution_count": 5,
   "id": "873813b3",
   "metadata": {},
   "outputs": [
    {
     "name": "stdout",
     "output_type": "stream",
     "text": [
      "123\n",
      "456\n",
      "789\n"
     ]
    }
   ],
   "source": [
    "with open(file) as x:\n",
    "    y = x.read()\n",
    "    print(y)"
   ]
  },
  {
   "cell_type": "code",
   "execution_count": null,
   "id": "f25a6634",
   "metadata": {},
   "outputs": [],
   "source": []
  },
  {
   "cell_type": "code",
   "execution_count": null,
   "id": "ab173696",
   "metadata": {},
   "outputs": [],
   "source": [
    "3. How to write the data."
   ]
  },
  {
   "cell_type": "code",
   "execution_count": 6,
   "id": "5c22d931",
   "metadata": {},
   "outputs": [],
   "source": [
    "with open(file, 'w') as f:    # 'w'=====> write\n",
    "    f.write(\"pyhton is the most demanding programming language in the world\")"
   ]
  },
  {
   "cell_type": "code",
   "execution_count": 7,
   "id": "10f278df",
   "metadata": {},
   "outputs": [
    {
     "name": "stdout",
     "output_type": "stream",
     "text": [
      "pyhton is the most demanding programming language in the world\n"
     ]
    }
   ],
   "source": [
    "with open(file) as x:\n",
    "    y = x.read()\n",
    "    print(y)"
   ]
  },
  {
   "cell_type": "code",
   "execution_count": null,
   "id": "d5ec5657",
   "metadata": {},
   "outputs": [],
   "source": []
  },
  {
   "cell_type": "code",
   "execution_count": null,
   "id": "1625bd08",
   "metadata": {},
   "outputs": [],
   "source": [
    "whenever we do the writ6e operation the old data will be deleted and the new data whatever we will enter that will upload"
   ]
  },
  {
   "cell_type": "code",
   "execution_count": null,
   "id": "f21389aa",
   "metadata": {},
   "outputs": [],
   "source": []
  },
  {
   "cell_type": "code",
   "execution_count": null,
   "id": "69712e87",
   "metadata": {},
   "outputs": [],
   "source": [
    "4. How to append the data"
   ]
  },
  {
   "cell_type": "code",
   "execution_count": null,
   "id": "3f0b7396",
   "metadata": {},
   "outputs": [],
   "source": [
    "i wnat to have my old data and the new data"
   ]
  },
  {
   "cell_type": "code",
   "execution_count": 8,
   "id": "4e34d3fc",
   "metadata": {},
   "outputs": [],
   "source": [
    "with open(file, 'a') as f:   #'a'  ======> append\n",
    "    f.write(\"\\npython is having simple synatxes\")"
   ]
  },
  {
   "cell_type": "code",
   "execution_count": 9,
   "id": "33741784",
   "metadata": {},
   "outputs": [
    {
     "name": "stdout",
     "output_type": "stream",
     "text": [
      "pyhton is the most demanding programming language in the world\n",
      "python is having simple synatxes\n"
     ]
    }
   ],
   "source": [
    "with open(file) as x:\n",
    "    y = x.read()\n",
    "    print(y)"
   ]
  },
  {
   "cell_type": "code",
   "execution_count": null,
   "id": "86f37438",
   "metadata": {},
   "outputs": [],
   "source": [
    "from the above output we can obseve that the we can able to get the old and new data by using 'a' means append"
   ]
  }
 ],
 "metadata": {
  "kernelspec": {
   "display_name": "Python 3",
   "language": "python",
   "name": "python3"
  },
  "language_info": {
   "codemirror_mode": {
    "name": "ipython",
    "version": 3
   },
   "file_extension": ".py",
   "mimetype": "text/x-python",
   "name": "python",
   "nbconvert_exporter": "python",
   "pygments_lexer": "ipython3",
   "version": "3.8.8"
  },
  "widgets": {
   "application/vnd.jupyter.widget-state+json": {
    "state": {},
    "version_major": 2,
    "version_minor": 0
   }
  }
 },
 "nbformat": 4,
 "nbformat_minor": 5
}
