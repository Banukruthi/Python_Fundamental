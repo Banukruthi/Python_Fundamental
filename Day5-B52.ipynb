{
 "cells": [
  {
   "cell_type": "code",
   "execution_count": null,
   "id": "3483b54c",
   "metadata": {},
   "outputs": [],
   "source": [
    "Organizing the list data type:"
   ]
  },
  {
   "cell_type": "code",
   "execution_count": null,
   "id": "c7354403",
   "metadata": {},
   "outputs": [],
   "source": []
  },
  {
   "cell_type": "code",
   "execution_count": 1,
   "id": "a8cdd9de",
   "metadata": {},
   "outputs": [],
   "source": [
    "cars = ['kia', 'benz', 'audi', 'bmw', 'suzuki', 'maruthi']"
   ]
  },
  {
   "cell_type": "code",
   "execution_count": 2,
   "id": "8ac5d697",
   "metadata": {},
   "outputs": [
    {
     "name": "stdout",
     "output_type": "stream",
     "text": [
      "['kia', 'benz', 'audi', 'bmw', 'suzuki', 'maruthi']\n"
     ]
    }
   ],
   "source": [
    "print(cars)"
   ]
  },
  {
   "cell_type": "code",
   "execution_count": 3,
   "id": "42db5167",
   "metadata": {},
   "outputs": [
    {
     "data": {
      "text/plain": [
       "list"
      ]
     },
     "execution_count": 3,
     "metadata": {},
     "output_type": "execute_result"
    }
   ],
   "source": [
    "type(cars)"
   ]
  },
  {
   "cell_type": "code",
   "execution_count": null,
   "id": "f053b235",
   "metadata": {},
   "outputs": [],
   "source": []
  },
  {
   "cell_type": "code",
   "execution_count": null,
   "id": "14c04b0d",
   "metadata": {},
   "outputs": [],
   "source": [
    "#req : i want to organize the above cars list in a alphabetical order  -----> A to Z order"
   ]
  },
  {
   "cell_type": "code",
   "execution_count": null,
   "id": "62644b9a",
   "metadata": {},
   "outputs": [],
   "source": [
    "2 possible Approaches\n",
    "       1. temporary(temp) approach ---> we can able to maintain  the original irder of the list  -------> sorted\n",
    "       2. permanent(per) approach -----> changes are fixed, we cannot go back to the orginal order  ------> sort"
   ]
  },
  {
   "cell_type": "code",
   "execution_count": null,
   "id": "146b0c12",
   "metadata": {},
   "outputs": [],
   "source": [
    "#temp approach ----> 1. a to z"
   ]
  },
  {
   "cell_type": "code",
   "execution_count": 4,
   "id": "2e12b920",
   "metadata": {},
   "outputs": [
    {
     "name": "stdout",
     "output_type": "stream",
     "text": [
      "['kia', 'benz', 'audi', 'bmw', 'suzuki', 'maruthi']\n"
     ]
    }
   ],
   "source": [
    "print(cars)"
   ]
  },
  {
   "cell_type": "code",
   "execution_count": 5,
   "id": "80fd02d2",
   "metadata": {},
   "outputs": [
    {
     "name": "stdout",
     "output_type": "stream",
     "text": [
      "['audi', 'benz', 'bmw', 'kia', 'maruthi', 'suzuki']\n"
     ]
    }
   ],
   "source": [
    "print(sorted(cars))"
   ]
  },
  {
   "cell_type": "code",
   "execution_count": null,
   "id": "3343616c",
   "metadata": {},
   "outputs": [],
   "source": [
    "from the above output if we observe here the output is printing in the alphabetical order  -----> here there are two elements 'benz' and 'bmw' --> First it will check for letter b and it wil go to second letter there 'e' is the first letter and then 'm' is the second letter so it will print as 'benz' first and then 'bmw'"
   ]
  },
  {
   "cell_type": "code",
   "execution_count": 7,
   "id": "733962bf",
   "metadata": {},
   "outputs": [
    {
     "name": "stdout",
     "output_type": "stream",
     "text": [
      "['kia', 'benz', 'audi', 'bmw', 'suzuki', 'maruthi']\n"
     ]
    }
   ],
   "source": [
    "print(cars)"
   ]
  },
  {
   "cell_type": "code",
   "execution_count": null,
   "id": "77db4dca",
   "metadata": {},
   "outputs": [],
   "source": [
    "above one is the original order from the temporary(temp) approach we can be able to get the original order"
   ]
  },
  {
   "cell_type": "code",
   "execution_count": null,
   "id": "35a31e13",
   "metadata": {},
   "outputs": [],
   "source": []
  },
  {
   "cell_type": "code",
   "execution_count": null,
   "id": "95a9102f",
   "metadata": {},
   "outputs": [],
   "source": [
    "# permanent approach :"
   ]
  },
  {
   "cell_type": "code",
   "execution_count": 8,
   "id": "c1dca6cc",
   "metadata": {},
   "outputs": [],
   "source": [
    "cars.sort()"
   ]
  },
  {
   "cell_type": "code",
   "execution_count": 9,
   "id": "e1c9e037",
   "metadata": {},
   "outputs": [
    {
     "name": "stdout",
     "output_type": "stream",
     "text": [
      "['audi', 'benz', 'bmw', 'kia', 'maruthi', 'suzuki']\n"
     ]
    }
   ],
   "source": [
    "print(cars)"
   ]
  },
  {
   "cell_type": "code",
   "execution_count": null,
   "id": "3b0e844f",
   "metadata": {},
   "outputs": [],
   "source": []
  },
  {
   "cell_type": "code",
   "execution_count": 10,
   "id": "3edd755a",
   "metadata": {},
   "outputs": [
    {
     "name": "stdout",
     "output_type": "stream",
     "text": [
      "['audi', 'benz', 'bmw', 'kia', 'maruthi', 'suzuki']\n"
     ]
    }
   ],
   "source": [
    "print(cars)"
   ]
  },
  {
   "cell_type": "code",
   "execution_count": null,
   "id": "808b9368",
   "metadata": {},
   "outputs": [],
   "source": [
    "form the above output we observe that we cannot go abck to the original order in the permanent approach"
   ]
  },
  {
   "cell_type": "code",
   "execution_count": null,
   "id": "21aa190f",
   "metadata": {},
   "outputs": [],
   "source": []
  },
  {
   "cell_type": "code",
   "execution_count": null,
   "id": "c27b8f55",
   "metadata": {},
   "outputs": [],
   "source": [
    "# Req: Hoe to print the list in a reverse order ..?  ***"
   ]
  },
  {
   "cell_type": "code",
   "execution_count": 11,
   "id": "04672e9d",
   "metadata": {},
   "outputs": [
    {
     "name": "stdout",
     "output_type": "stream",
     "text": [
      "['audi', 'benz', 'bmw', 'kia', 'maruthi', 'suzuki']\n"
     ]
    }
   ],
   "source": [
    "print(cars)"
   ]
  },
  {
   "cell_type": "code",
   "execution_count": 12,
   "id": "fd30cc95",
   "metadata": {},
   "outputs": [],
   "source": [
    "cars.reverse()   # the changes are applied permanently"
   ]
  },
  {
   "cell_type": "code",
   "execution_count": 13,
   "id": "db554791",
   "metadata": {},
   "outputs": [
    {
     "name": "stdout",
     "output_type": "stream",
     "text": [
      "['suzuki', 'maruthi', 'kia', 'bmw', 'benz', 'audi']\n"
     ]
    }
   ],
   "source": [
    "print(cars)"
   ]
  },
  {
   "cell_type": "code",
   "execution_count": null,
   "id": "90edc0ba",
   "metadata": {},
   "outputs": [],
   "source": [
    " here reveres is using to print the elements in the reverse order in the list"
   ]
  },
  {
   "cell_type": "code",
   "execution_count": 14,
   "id": "148e292a",
   "metadata": {},
   "outputs": [
    {
     "name": "stdout",
     "output_type": "stream",
     "text": [
      "['suzuki', 'maruthi', 'kia', 'bmw', 'benz', 'audi']\n"
     ]
    }
   ],
   "source": [
    "print(cars)"
   ]
  },
  {
   "cell_type": "code",
   "execution_count": null,
   "id": "983fcf4e",
   "metadata": {},
   "outputs": [],
   "source": [
    "here we cannot go back to the origina order"
   ]
  },
  {
   "cell_type": "code",
   "execution_count": null,
   "id": "653f6d39",
   "metadata": {},
   "outputs": [],
   "source": []
  },
  {
   "cell_type": "code",
   "execution_count": null,
   "id": "8b269948",
   "metadata": {},
   "outputs": [],
   "source": [
    "# Req : to count the number of elements in the list"
   ]
  },
  {
   "cell_type": "code",
   "execution_count": 15,
   "id": "4375924a",
   "metadata": {},
   "outputs": [
    {
     "data": {
      "text/plain": [
       "6"
      ]
     },
     "execution_count": 15,
     "metadata": {},
     "output_type": "execute_result"
    }
   ],
   "source": [
    "len(cars)"
   ]
  },
  {
   "cell_type": "code",
   "execution_count": null,
   "id": "be69c036",
   "metadata": {},
   "outputs": [],
   "source": [
    "here the len is used to count the number of elements in the list"
   ]
  },
  {
   "cell_type": "code",
   "execution_count": null,
   "id": "7dce04a1",
   "metadata": {},
   "outputs": [],
   "source": []
  },
  {
   "cell_type": "code",
   "execution_count": null,
   "id": "7f010926",
   "metadata": {},
   "outputs": [],
   "source": [
    "Slicing of lists:"
   ]
  },
  {
   "cell_type": "code",
   "execution_count": 16,
   "id": "0c359ba5",
   "metadata": {},
   "outputs": [],
   "source": [
    "students = ['kruthika', 'swarna', 'harish', 'deepthi', 'manoj', 'madhu']"
   ]
  },
  {
   "cell_type": "code",
   "execution_count": 17,
   "id": "c0322f91",
   "metadata": {},
   "outputs": [
    {
     "name": "stdout",
     "output_type": "stream",
     "text": [
      "['kruthika', 'swarna', 'harish', 'deepthi', 'manoj', 'madhu']\n"
     ]
    }
   ],
   "source": [
    "print(students)"
   ]
  },
  {
   "cell_type": "code",
   "execution_count": null,
   "id": "3854433a",
   "metadata": {},
   "outputs": [],
   "source": []
  },
  {
   "cell_type": "code",
   "execution_count": null,
   "id": "ae75591d",
   "metadata": {},
   "outputs": [],
   "source": [
    "general of syntax of slicing"
   ]
  },
  {
   "cell_type": "code",
   "execution_count": null,
   "id": "ec061ea6",
   "metadata": {},
   "outputs": [],
   "source": [
    "startvalue:stopvalue:stepcunt =======> indexing"
   ]
  },
  {
   "cell_type": "code",
   "execution_count": null,
   "id": "b47f2aa1",
   "metadata": {},
   "outputs": [],
   "source": [
    "Note : the last value or the stop value is always exclusive, that means it will be included in part of slice."
   ]
  },
  {
   "cell_type": "code",
   "execution_count": null,
   "id": "5b2b205c",
   "metadata": {},
   "outputs": [],
   "source": [
    "Note : increment the index by 1 to nclude the last value or stop value"
   ]
  },
  {
   "cell_type": "code",
   "execution_count": null,
   "id": "803731ba",
   "metadata": {},
   "outputs": [],
   "source": [
    "# req: want to include kruthika and swarna in the same slice"
   ]
  },
  {
   "cell_type": "code",
   "execution_count": 18,
   "id": "4d19d607",
   "metadata": {},
   "outputs": [
    {
     "name": "stdout",
     "output_type": "stream",
     "text": [
      "['kruthika']\n"
     ]
    }
   ],
   "source": [
    "print(students[0:1])"
   ]
  },
  {
   "cell_type": "code",
   "execution_count": 19,
   "id": "7ff1e4cf",
   "metadata": {},
   "outputs": [
    {
     "name": "stdout",
     "output_type": "stream",
     "text": [
      "['kruthika', 'swarna']\n"
     ]
    }
   ],
   "source": [
    "print(students[0:2])"
   ]
  },
  {
   "cell_type": "code",
   "execution_count": null,
   "id": "3a320666",
   "metadata": {},
   "outputs": [],
   "source": []
  },
  {
   "cell_type": "code",
   "execution_count": 21,
   "id": "d2d23db1",
   "metadata": {},
   "outputs": [
    {
     "name": "stdout",
     "output_type": "stream",
     "text": [
      "['kruthika', 'swarna', 'harish', 'deepthi', 'manoj', 'madhu']\n"
     ]
    }
   ],
   "source": [
    "#req: i wnat to include harish ans deepthi in the same slice\n",
    "print(students)"
   ]
  },
  {
   "cell_type": "code",
   "execution_count": 20,
   "id": "bb323bbc",
   "metadata": {},
   "outputs": [
    {
     "name": "stdout",
     "output_type": "stream",
     "text": [
      "['harish', 'deepthi']\n"
     ]
    }
   ],
   "source": [
    "print(students[2:4])"
   ]
  },
  {
   "cell_type": "code",
   "execution_count": null,
   "id": "6417e46a",
   "metadata": {},
   "outputs": [],
   "source": []
  },
  {
   "cell_type": "code",
   "execution_count": null,
   "id": "021eb18a",
   "metadata": {},
   "outputs": [],
   "source": [
    "#req : i wnat to include manoj and madhu in the same slice"
   ]
  },
  {
   "cell_type": "code",
   "execution_count": 22,
   "id": "e7a99757",
   "metadata": {},
   "outputs": [
    {
     "name": "stdout",
     "output_type": "stream",
     "text": [
      "['kruthika', 'swarna', 'harish', 'deepthi', 'manoj', 'madhu']\n"
     ]
    }
   ],
   "source": [
    "print(students)"
   ]
  },
  {
   "cell_type": "code",
   "execution_count": 23,
   "id": "41398cee",
   "metadata": {},
   "outputs": [
    {
     "name": "stdout",
     "output_type": "stream",
     "text": [
      "['manoj', 'madhu']\n"
     ]
    }
   ],
   "source": [
    "print(students[4:6])"
   ]
  },
  {
   "cell_type": "code",
   "execution_count": null,
   "id": "4b20f092",
   "metadata": {},
   "outputs": [],
   "source": [
    "here the 6th index is n0t there but we can add it still"
   ]
  },
  {
   "cell_type": "code",
   "execution_count": null,
   "id": "cf4d2ff5",
   "metadata": {},
   "outputs": [],
   "source": [
    "#req : want to print the altenative elements in the list =====> stepcount"
   ]
  },
  {
   "cell_type": "code",
   "execution_count": 24,
   "id": "c3351160",
   "metadata": {},
   "outputs": [
    {
     "name": "stdout",
     "output_type": "stream",
     "text": [
      "['kruthika', 'harish', 'manoj']\n"
     ]
    }
   ],
   "source": [
    "print(students[0:6:2])  "
   ]
  },
  {
   "cell_type": "code",
   "execution_count": null,
   "id": "5f0e042a",
   "metadata": {},
   "outputs": [],
   "source": [
    "tha above output is prinitng alternate  elements in the list"
   ]
  },
  {
   "cell_type": "code",
   "execution_count": 29,
   "id": "b0202f0e",
   "metadata": {},
   "outputs": [
    {
     "name": "stdout",
     "output_type": "stream",
     "text": [
      "['kruthika', 'harish', 'manoj']\n"
     ]
    }
   ],
   "source": [
    "print(students[0:5:2])"
   ]
  },
  {
   "cell_type": "code",
   "execution_count": 31,
   "id": "d02b3a27",
   "metadata": {},
   "outputs": [
    {
     "name": "stdout",
     "output_type": "stream",
     "text": [
      "['kruthika', 'deepthi']\n"
     ]
    }
   ],
   "source": [
    "print(students[0:6:3])"
   ]
  },
  {
   "cell_type": "code",
   "execution_count": 32,
   "id": "a2f2c443",
   "metadata": {},
   "outputs": [
    {
     "name": "stdout",
     "output_type": "stream",
     "text": [
      "['kruthika', 'manoj']\n"
     ]
    }
   ],
   "source": [
    "print(students[0:6:4])"
   ]
  },
  {
   "cell_type": "code",
   "execution_count": 33,
   "id": "bebd157a",
   "metadata": {},
   "outputs": [
    {
     "name": "stdout",
     "output_type": "stream",
     "text": [
      "['kruthika', 'madhu']\n"
     ]
    }
   ],
   "source": [
    "print(students[0:6:5])\n"
   ]
  },
  {
   "cell_type": "code",
   "execution_count": null,
   "id": "cfcabcd4",
   "metadata": {},
   "outputs": [],
   "source": []
  }
 ],
 "metadata": {
  "kernelspec": {
   "display_name": "Python 3",
   "language": "python",
   "name": "python3"
  },
  "language_info": {
   "codemirror_mode": {
    "name": "ipython",
    "version": 3
   },
   "file_extension": ".py",
   "mimetype": "text/x-python",
   "name": "python",
   "nbconvert_exporter": "python",
   "pygments_lexer": "ipython3",
   "version": "3.8.8"
  }
 },
 "nbformat": 4,
 "nbformat_minor": 5
}
