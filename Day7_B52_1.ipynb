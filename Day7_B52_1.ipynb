{
 "cells": [
  {
   "cell_type": "code",
   "execution_count": 1,
   "id": "7246dc24",
   "metadata": {},
   "outputs": [
    {
     "name": "stdout",
     "output_type": "stream",
     "text": [
      "please enter your fullname :kruthika m s\n"
     ]
    }
   ],
   "source": [
    "prompt = input(\"please enter your fullname :\")"
   ]
  },
  {
   "cell_type": "code",
   "execution_count": 2,
   "id": "040a7b5d",
   "metadata": {},
   "outputs": [
    {
     "name": "stdout",
     "output_type": "stream",
     "text": [
      "welcome to pyhon world, kruthika m s\n"
     ]
    }
   ],
   "source": [
    "print(f\"welcome to pyhon world, {prompt}\")"
   ]
  },
  {
   "cell_type": "code",
   "execution_count": 3,
   "id": "6b2920e8",
   "metadata": {},
   "outputs": [
    {
     "name": "stdout",
     "output_type": "stream",
     "text": [
      "enter your name :kruthika\n",
      "welcome, kruthika\n"
     ]
    }
   ],
   "source": [
    "prompt = input(\"enter your name :\")\n",
    "\n",
    "print(f\"welcome, {prompt}\")"
   ]
  },
  {
   "cell_type": "code",
   "execution_count": 4,
   "id": "81ccb537",
   "metadata": {},
   "outputs": [
    {
     "name": "stdout",
     "output_type": "stream",
     "text": [
      "enter your name :kruthika\n",
      "welcome, kruthika\n"
     ]
    }
   ],
   "source": [
    "prompt = input(\"enter your name :\")\n",
    "\n",
    "print(f\"welcome, {prompt}\")"
   ]
  },
  {
   "cell_type": "code",
   "execution_count": null,
   "id": "f27b4a65",
   "metadata": {},
   "outputs": [],
   "source": [
    "Note : By default input methods takes the text as a string data type"
   ]
  },
  {
   "cell_type": "code",
   "execution_count": 5,
   "id": "4f3bee10",
   "metadata": {},
   "outputs": [
    {
     "name": "stdout",
     "output_type": "stream",
     "text": [
      "please enter your age30\n",
      "30\n"
     ]
    }
   ],
   "source": [
    "age = input(\"please enter your age\")\n",
    "\n",
    "print(age)"
   ]
  },
  {
   "cell_type": "code",
   "execution_count": null,
   "id": "b0e24a10",
   "metadata": {},
   "outputs": [],
   "source": []
  },
  {
   "cell_type": "code",
   "execution_count": null,
   "id": "a25a7929",
   "metadata": {},
   "outputs": [],
   "source": [
    "#req : to validate the age"
   ]
  },
  {
   "cell_type": "code",
   "execution_count": 6,
   "id": "31a9b06c",
   "metadata": {},
   "outputs": [
    {
     "ename": "TypeError",
     "evalue": "'>' not supported between instances of 'str' and 'int'",
     "output_type": "error",
     "traceback": [
      "\u001b[1;31m---------------------------------------------------------------------------\u001b[0m",
      "\u001b[1;31mTypeError\u001b[0m                                 Traceback (most recent call last)",
      "\u001b[1;32m<ipython-input-6-c13464600d74>\u001b[0m in \u001b[0;36m<module>\u001b[1;34m\u001b[0m\n\u001b[1;32m----> 1\u001b[1;33m \u001b[0mage\u001b[0m \u001b[1;33m>\u001b[0m \u001b[1;36m20\u001b[0m\u001b[1;33m\u001b[0m\u001b[1;33m\u001b[0m\u001b[0m\n\u001b[0m",
      "\u001b[1;31mTypeError\u001b[0m: '>' not supported between instances of 'str' and 'int'"
     ]
    }
   ],
   "source": [
    "age > 20    # do not try to compare str and int (by default input methods takes text as string datat type so)"
   ]
  },
  {
   "cell_type": "code",
   "execution_count": 7,
   "id": "c8fa7b88",
   "metadata": {},
   "outputs": [
    {
     "data": {
      "text/plain": [
       "str"
      ]
     },
     "execution_count": 7,
     "metadata": {},
     "output_type": "execute_result"
    }
   ],
   "source": [
    "type(age)"
   ]
  },
  {
   "cell_type": "code",
   "execution_count": null,
   "id": "3fc17731",
   "metadata": {},
   "outputs": [],
   "source": []
  },
  {
   "cell_type": "code",
   "execution_count": null,
   "id": "890a5db6",
   "metadata": {},
   "outputs": [],
   "source": [
    "typecasting of datatypes\n",
    "\n",
    "converting the data from one type to another type"
   ]
  },
  {
   "cell_type": "code",
   "execution_count": 8,
   "id": "8cb047d4",
   "metadata": {},
   "outputs": [
    {
     "name": "stdout",
     "output_type": "stream",
     "text": [
      "please enter your age30\n"
     ]
    }
   ],
   "source": [
    "age = input(\"please enter your age\")\n",
    "age = int(age)"
   ]
  },
  {
   "cell_type": "code",
   "execution_count": 9,
   "id": "0054d9d4",
   "metadata": {},
   "outputs": [
    {
     "data": {
      "text/plain": [
       "True"
      ]
     },
     "execution_count": 9,
     "metadata": {},
     "output_type": "execute_result"
    }
   ],
   "source": [
    "age > 20"
   ]
  },
  {
   "cell_type": "code",
   "execution_count": 10,
   "id": "1e1b8071",
   "metadata": {},
   "outputs": [
    {
     "data": {
      "text/plain": [
       "int"
      ]
     },
     "execution_count": 10,
     "metadata": {},
     "output_type": "execute_result"
    }
   ],
   "source": [
    "type(age)    # here the age is converted to integer by using typecasting"
   ]
  },
  {
   "cell_type": "code",
   "execution_count": null,
   "id": "7fc1a6fd",
   "metadata": {},
   "outputs": [],
   "source": []
  },
  {
   "cell_type": "code",
   "execution_count": null,
   "id": "d94ce380",
   "metadata": {},
   "outputs": [],
   "source": [
    "# Building a simple votng application:"
   ]
  },
  {
   "cell_type": "code",
   "execution_count": 14,
   "id": "a6c68fd0",
   "metadata": {},
   "outputs": [
    {
     "name": "stdout",
     "output_type": "stream",
     "text": [
      "please enter your age :20\n",
      "you are eligible to vote\n"
     ]
    }
   ],
   "source": [
    "age = input(\"please enter your age :\")\n",
    "age = int(age)\n",
    "\n",
    "if age >= 18:\n",
    "    print(\"you are eligible to vote\")\n",
    "else:\n",
    "    print(\"you are not eligible to vote\")"
   ]
  },
  {
   "cell_type": "code",
   "execution_count": null,
   "id": "76a1be10",
   "metadata": {},
   "outputs": [],
   "source": []
  },
  {
   "cell_type": "code",
   "execution_count": 13,
   "id": "78335f2f",
   "metadata": {},
   "outputs": [
    {
     "name": "stdout",
     "output_type": "stream",
     "text": [
      "please enter your age :10\n",
      "you are not eligible to vote\n"
     ]
    }
   ],
   "source": [
    "age = input(\"please enter your age :\")\n",
    "age = int(age)\n",
    "\n",
    "if age >= 18:\n",
    "    print(\"you are eligible to vote\")\n",
    "else:\n",
    "    print(\"you are not eligible to vote\")"
   ]
  },
  {
   "cell_type": "code",
   "execution_count": null,
   "id": "f5ee802e",
   "metadata": {},
   "outputs": [],
   "source": []
  },
  {
   "cell_type": "code",
   "execution_count": null,
   "id": "3399547c",
   "metadata": {},
   "outputs": [],
   "source": []
  }
 ],
 "metadata": {
  "kernelspec": {
   "display_name": "Python 3",
   "language": "python",
   "name": "python3"
  },
  "language_info": {
   "codemirror_mode": {
    "name": "ipython",
    "version": 3
   },
   "file_extension": ".py",
   "mimetype": "text/x-python",
   "name": "python",
   "nbconvert_exporter": "python",
   "pygments_lexer": "ipython3",
   "version": "3.8.8"
  }
 },
 "nbformat": 4,
 "nbformat_minor": 5
}
