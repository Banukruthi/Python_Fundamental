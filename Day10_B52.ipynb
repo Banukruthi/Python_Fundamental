{
 "cells": [
  {
   "cell_type": "code",
   "execution_count": null,
   "id": "d5b2ed49",
   "metadata": {},
   "outputs": [],
   "source": [
    "Introduction to functions in python:"
   ]
  },
  {
   "cell_type": "code",
   "execution_count": null,
   "id": "0a738771",
   "metadata": {},
   "outputs": [],
   "source": [
    "for the customer requirement we can write and design our own functions.\n",
    "Code re-usability : to avoid repeatitive task we will use functions"
   ]
  },
  {
   "cell_type": "code",
   "execution_count": null,
   "id": "716959ed",
   "metadata": {},
   "outputs": [],
   "source": [
    "Understanding zen of python:\n",
    "    \n",
    "Guiding principles of pyhton:"
   ]
  },
  {
   "cell_type": "code",
   "execution_count": 1,
   "id": "fbac473c",
   "metadata": {},
   "outputs": [
    {
     "name": "stdout",
     "output_type": "stream",
     "text": [
      "The Zen of Python, by Tim Peters\n",
      "\n",
      "Beautiful is better than ugly.\n",
      "Explicit is better than implicit.\n",
      "Simple is better than complex.\n",
      "Complex is better than complicated.\n",
      "Flat is better than nested.\n",
      "Sparse is better than dense.\n",
      "Readability counts.\n",
      "Special cases aren't special enough to break the rules.\n",
      "Although practicality beats purity.\n",
      "Errors should never pass silently.\n",
      "Unless explicitly silenced.\n",
      "In the face of ambiguity, refuse the temptation to guess.\n",
      "There should be one-- and preferably only one --obvious way to do it.\n",
      "Although that way may not be obvious at first unless you're Dutch.\n",
      "Now is better than never.\n",
      "Although never is often better than *right* now.\n",
      "If the implementation is hard to explain, it's a bad idea.\n",
      "If the implementation is easy to explain, it may be a good idea.\n",
      "Namespaces are one honking great idea -- let's do more of those!\n"
     ]
    }
   ],
   "source": [
    "import this"
   ]
  },
  {
   "cell_type": "code",
   "execution_count": null,
   "id": "a9bb56c6",
   "metadata": {},
   "outputs": [],
   "source": []
  },
  {
   "cell_type": "code",
   "execution_count": null,
   "id": "0f2f4028",
   "metadata": {},
   "outputs": [],
   "source": [
    "def is the keyword for defining the function."
   ]
  },
  {
   "cell_type": "code",
   "execution_count": null,
   "id": "65899075",
   "metadata": {},
   "outputs": [],
   "source": [
    "for giving the function name we have to use small case letters only."
   ]
  },
  {
   "cell_type": "code",
   "execution_count": null,
   "id": "d30af80e",
   "metadata": {},
   "outputs": [],
   "source": []
  },
  {
   "cell_type": "code",
   "execution_count": null,
   "id": "079fb1b6",
   "metadata": {},
   "outputs": [],
   "source": [
    "#req : create a greet function."
   ]
  },
  {
   "cell_type": "code",
   "execution_count": 10,
   "id": "fd834793",
   "metadata": {},
   "outputs": [],
   "source": [
    "def greet():   # Declaring/defining the function\n",
    "    \"\"\"creating the function\"\"\"   # doc string =====> commenting inside the function.\n",
    "    print(\"Hello!\")"
   ]
  },
  {
   "cell_type": "code",
   "execution_count": 7,
   "id": "437d4f2e",
   "metadata": {},
   "outputs": [
    {
     "name": "stdout",
     "output_type": "stream",
     "text": [
      "Hello!\n"
     ]
    }
   ],
   "source": [
    "greet()   # Function call"
   ]
  },
  {
   "cell_type": "code",
   "execution_count": 8,
   "id": "47f859a8",
   "metadata": {},
   "outputs": [
    {
     "name": "stdout",
     "output_type": "stream",
     "text": [
      "Hello!\n"
     ]
    }
   ],
   "source": [
    "greet()"
   ]
  },
  {
   "cell_type": "code",
   "execution_count": 12,
   "id": "3679629f",
   "metadata": {},
   "outputs": [
    {
     "name": "stdout",
     "output_type": "stream",
     "text": [
      "Hello!\n"
     ]
    }
   ],
   "source": [
    "greet()"
   ]
  },
  {
   "cell_type": "code",
   "execution_count": null,
   "id": "3fd94206",
   "metadata": {},
   "outputs": [],
   "source": [
    "#req : create a function to greet the user that we are passing to the function."
   ]
  },
  {
   "cell_type": "code",
   "execution_count": 11,
   "id": "6b27bf67",
   "metadata": {},
   "outputs": [],
   "source": [
    "def greetuser(username):         # parameter Passing during the function declaration\n",
    "    \"\"\"creating a function to greet the user\"\"\"  #doc string\n",
    "    print(f\"Hello, {username.title()}\")"
   ]
  },
  {
   "cell_type": "raw",
   "id": "bca17e2b",
   "metadata": {},
   "source": []
  },
  {
   "cell_type": "code",
   "execution_count": 13,
   "id": "13588739",
   "metadata": {},
   "outputs": [
    {
     "name": "stdout",
     "output_type": "stream",
     "text": [
      "Hello, Kruthika\n"
     ]
    }
   ],
   "source": [
    "greetuser('Kruthika')  # it is a function call  =====> arguments passing during the function call"
   ]
  },
  {
   "cell_type": "code",
   "execution_count": 14,
   "id": "73241b9c",
   "metadata": {},
   "outputs": [
    {
     "name": "stdout",
     "output_type": "stream",
     "text": [
      "Hello, Laasya\n"
     ]
    }
   ],
   "source": [
    "greetuser('laasya')"
   ]
  },
  {
   "cell_type": "code",
   "execution_count": null,
   "id": "b7095f05",
   "metadata": {},
   "outputs": [],
   "source": []
  },
  {
   "cell_type": "code",
   "execution_count": null,
   "id": "5d4bd9b1",
   "metadata": {},
   "outputs": [],
   "source": [
    "types of arguments:"
   ]
  },
  {
   "cell_type": "code",
   "execution_count": null,
   "id": "f610f876",
   "metadata": {},
   "outputs": [],
   "source": [
    "#req: create a describe_pet function where in it takes 2 parameters below\n",
    "#1. animaltype   2. petname"
   ]
  },
  {
   "cell_type": "code",
   "execution_count": 15,
   "id": "8a18c208",
   "metadata": {},
   "outputs": [],
   "source": [
    "def describe_pet(animaltype, petname):\n",
    "    \"\"\"craeting a pet function for descibing the animals\"\"\"\n",
    "    print(f\"I have a {animaltype}\")\n",
    "    print(f\"my {animaltype}'s name is {petname}\")"
   ]
  },
  {
   "cell_type": "code",
   "execution_count": 16,
   "id": "0b815e31",
   "metadata": {},
   "outputs": [
    {
     "name": "stdout",
     "output_type": "stream",
     "text": [
      "I have a dog\n",
      "my dog's name is sony\n"
     ]
    }
   ],
   "source": [
    "describe_pet('dog', 'sony')"
   ]
  },
  {
   "cell_type": "code",
   "execution_count": null,
   "id": "9220866f",
   "metadata": {},
   "outputs": [],
   "source": [
    "positional arguments"
   ]
  },
  {
   "cell_type": "code",
   "execution_count": null,
   "id": "0d2cf8af",
   "metadata": {},
   "outputs": [],
   "source": [
    "#req: create a descibe_pet function where it in takes 2 parameters below\n",
    "#1. animal type 2. animalname"
   ]
  },
  {
   "cell_type": "code",
   "execution_count": 17,
   "id": "b0ba3677",
   "metadata": {},
   "outputs": [],
   "source": [
    "def describe_pet(animaltype, petname):   # parameter passing during the function declaration\n",
    "    print(f\"i have a {animaltype}\")\n",
    "    print(f\"my {animaltype}'s name is {petname}\")"
   ]
  },
  {
   "cell_type": "raw",
   "id": "e1733996",
   "metadata": {},
   "source": []
  },
  {
   "cell_type": "code",
   "execution_count": 19,
   "id": "53aadde2",
   "metadata": {},
   "outputs": [
    {
     "name": "stdout",
     "output_type": "stream",
     "text": [
      "i have a cat\n",
      "my cat's name is pussy\n"
     ]
    }
   ],
   "source": [
    "describe_pet('cat', 'pussy')   # passing arguments during the function call"
   ]
  },
  {
   "cell_type": "code",
   "execution_count": null,
   "id": "8c588b72",
   "metadata": {},
   "outputs": [],
   "source": []
  },
  {
   "cell_type": "code",
   "execution_count": 20,
   "id": "d7a8fa0d",
   "metadata": {},
   "outputs": [
    {
     "name": "stdout",
     "output_type": "stream",
     "text": [
      "i have a goldy\n",
      "my goldy's name is fish\n"
     ]
    }
   ],
   "source": [
    "describe_pet('goldy', 'fish')"
   ]
  },
  {
   "cell_type": "code",
   "execution_count": null,
   "id": "60a8b045",
   "metadata": {},
   "outputs": [],
   "source": [
    "# by default functions will be having the positional arguments......"
   ]
  },
  {
   "cell_type": "code",
   "execution_count": null,
   "id": "948acbc1",
   "metadata": {},
   "outputs": [],
   "source": [
    "Keyword arguments:"
   ]
  },
  {
   "cell_type": "code",
   "execution_count": 21,
   "id": "41cb9825",
   "metadata": {},
   "outputs": [
    {
     "name": "stdout",
     "output_type": "stream",
     "text": [
      "i have a fish\n",
      "my fish's name is goldy\n"
     ]
    }
   ],
   "source": [
    "describe_pet(petname = 'goldy', animaltype = 'fish')"
   ]
  },
  {
   "cell_type": "code",
   "execution_count": 22,
   "id": "a40ca2a5",
   "metadata": {},
   "outputs": [
    {
     "name": "stdout",
     "output_type": "stream",
     "text": [
      "i have a fish\n",
      "my fish's name is goldy\n"
     ]
    }
   ],
   "source": [
    "describe_pet(animaltype = 'fish', petname = 'goldy')"
   ]
  },
  {
   "cell_type": "code",
   "execution_count": null,
   "id": "c5e6501c",
   "metadata": {},
   "outputs": [],
   "source": []
  },
  {
   "cell_type": "code",
   "execution_count": null,
   "id": "b17860ad",
   "metadata": {},
   "outputs": [],
   "source": [
    "Missing arguments:"
   ]
  },
  {
   "cell_type": "code",
   "execution_count": 23,
   "id": "9a652372",
   "metadata": {},
   "outputs": [
    {
     "ename": "TypeError",
     "evalue": "describe_pet() missing 1 required positional argument: 'petname'",
     "output_type": "error",
     "traceback": [
      "\u001b[1;31m---------------------------------------------------------------------------\u001b[0m",
      "\u001b[1;31mTypeError\u001b[0m                                 Traceback (most recent call last)",
      "\u001b[1;32m<ipython-input-23-cbf409cdfecf>\u001b[0m in \u001b[0;36m<module>\u001b[1;34m\u001b[0m\n\u001b[1;32m----> 1\u001b[1;33m \u001b[0mdescribe_pet\u001b[0m\u001b[1;33m(\u001b[0m\u001b[1;34m'bruno'\u001b[0m\u001b[1;33m)\u001b[0m\u001b[1;33m\u001b[0m\u001b[1;33m\u001b[0m\u001b[0m\n\u001b[0m",
      "\u001b[1;31mTypeError\u001b[0m: describe_pet() missing 1 required positional argument: 'petname'"
     ]
    }
   ],
   "source": [
    "describe_pet('bruno')"
   ]
  },
  {
   "cell_type": "code",
   "execution_count": null,
   "id": "d027b9b4",
   "metadata": {},
   "outputs": [],
   "source": []
  },
  {
   "cell_type": "code",
   "execution_count": null,
   "id": "e35bdce3",
   "metadata": {},
   "outputs": [],
   "source": [
    "#req : animaltype =====> assumed to be dog"
   ]
  },
  {
   "cell_type": "code",
   "execution_count": 24,
   "id": "7aaf759c",
   "metadata": {},
   "outputs": [
    {
     "ename": "SyntaxError",
     "evalue": "non-default argument follows default argument (<ipython-input-24-60de1221808c>, line 1)",
     "output_type": "error",
     "traceback": [
      "\u001b[1;36m  File \u001b[1;32m\"<ipython-input-24-60de1221808c>\"\u001b[1;36m, line \u001b[1;32m1\u001b[0m\n\u001b[1;33m    def describe_pet(animatype = 'dog', petname):\u001b[0m\n\u001b[1;37m                     ^\u001b[0m\n\u001b[1;31mSyntaxError\u001b[0m\u001b[1;31m:\u001b[0m non-default argument follows default argument\n"
     ]
    }
   ],
   "source": [
    "def describe_pet(animatype = 'dog', petname):\n",
    "    print(f\"i have a {animaltye}\")\n",
    "    print(f\"my {animaltpes}'s name is {petname}\")"
   ]
  },
  {
   "cell_type": "code",
   "execution_count": 25,
   "id": "74cc6a5d",
   "metadata": {},
   "outputs": [],
   "source": [
    "def describe_pet(petname, animaltype = 'dog'):\n",
    "    print(f\"I have a {animaltype}\")\n",
    "    print(f\"My {animaltype}'s name is {petname}\")"
   ]
  },
  {
   "cell_type": "code",
   "execution_count": 26,
   "id": "e9087b3d",
   "metadata": {},
   "outputs": [
    {
     "name": "stdout",
     "output_type": "stream",
     "text": [
      "I have a dog\n",
      "My dog's name is bruno\n"
     ]
    }
   ],
   "source": [
    "describe_pet('bruno')"
   ]
  },
  {
   "cell_type": "code",
   "execution_count": null,
   "id": "e58d2b86",
   "metadata": {},
   "outputs": [],
   "source": [
    "keep the default argument at the end "
   ]
  },
  {
   "cell_type": "code",
   "execution_count": null,
   "id": "09b6bb18",
   "metadata": {},
   "outputs": [],
   "source": []
  },
  {
   "cell_type": "code",
   "execution_count": 28,
   "id": "bbf1d283",
   "metadata": {},
   "outputs": [
    {
     "name": "stdout",
     "output_type": "stream",
     "text": [
      "I have a rabbit\n",
      "My rabbit's name is teenu\n"
     ]
    }
   ],
   "source": [
    "describe_pet('teenu', 'rabbit')"
   ]
  },
  {
   "cell_type": "code",
   "execution_count": null,
   "id": "ccff804c",
   "metadata": {},
   "outputs": [],
   "source": []
  },
  {
   "cell_type": "code",
   "execution_count": null,
   "id": "2aef7f48",
   "metadata": {},
   "outputs": [],
   "source": []
  },
  {
   "cell_type": "code",
   "execution_count": null,
   "id": "0081b992",
   "metadata": {},
   "outputs": [],
   "source": []
  },
  {
   "cell_type": "code",
   "execution_count": null,
   "id": "a7f69a3a",
   "metadata": {},
   "outputs": [],
   "source": []
  },
  {
   "cell_type": "code",
   "execution_count": null,
   "id": "a214c00d",
   "metadata": {},
   "outputs": [],
   "source": []
  }
 ],
 "metadata": {
  "kernelspec": {
   "display_name": "Python 3",
   "language": "python",
   "name": "python3"
  },
  "language_info": {
   "codemirror_mode": {
    "name": "ipython",
    "version": 3
   },
   "file_extension": ".py",
   "mimetype": "text/x-python",
   "name": "python",
   "nbconvert_exporter": "python",
   "pygments_lexer": "ipython3",
   "version": "3.8.8"
  }
 },
 "nbformat": 4,
 "nbformat_minor": 5
}
