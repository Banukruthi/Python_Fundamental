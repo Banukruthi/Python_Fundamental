{
 "cells": [
  {
   "cell_type": "code",
   "execution_count": null,
   "id": "5c6fc904",
   "metadata": {},
   "outputs": [],
   "source": [
    "Methods which were using in string"
   ]
  },
  {
   "cell_type": "code",
   "execution_count": 1,
   "id": "f59b5218",
   "metadata": {},
   "outputs": [
    {
     "name": "stdout",
     "output_type": "stream",
     "text": [
      "rajesh robin\n"
     ]
    }
   ],
   "source": [
    "fullname = 'rajesh robin'\n",
    "print(fullname)"
   ]
  },
  {
   "cell_type": "code",
   "execution_count": null,
   "id": "ba670783",
   "metadata": {},
   "outputs": [],
   "source": [
    "the above ouput which is not in a correct format, so to print the fiullname in a correct fomrmat we are using title"
   ]
  },
  {
   "cell_type": "code",
   "execution_count": null,
   "id": "e6b69d51",
   "metadata": {},
   "outputs": [],
   "source": []
  },
  {
   "cell_type": "code",
   "execution_count": 2,
   "id": "7cd91e49",
   "metadata": {},
   "outputs": [
    {
     "ename": "NameError",
     "evalue": "name 'fulname' is not defined",
     "output_type": "error",
     "traceback": [
      "\u001b[1;31m---------------------------------------------------------------------------\u001b[0m",
      "\u001b[1;31mNameError\u001b[0m                                 Traceback (most recent call last)",
      "\u001b[1;32m<ipython-input-2-34e630bc73d6>\u001b[0m in \u001b[0;36m<module>\u001b[1;34m\u001b[0m\n\u001b[1;32m----> 1\u001b[1;33m \u001b[0mprint\u001b[0m\u001b[1;33m(\u001b[0m\u001b[0mfulname\u001b[0m\u001b[1;33m.\u001b[0m\u001b[0mtitle\u001b[0m\u001b[1;33m(\u001b[0m\u001b[1;33m)\u001b[0m\u001b[1;33m)\u001b[0m\u001b[1;33m\u001b[0m\u001b[1;33m\u001b[0m\u001b[0m\n\u001b[0m",
      "\u001b[1;31mNameError\u001b[0m: name 'fulname' is not defined"
     ]
    }
   ],
   "source": [
    "print(fulname.title())"
   ]
  },
  {
   "cell_type": "code",
   "execution_count": 3,
   "id": "619e6801",
   "metadata": {},
   "outputs": [
    {
     "name": "stdout",
     "output_type": "stream",
     "text": [
      "Rajesh Robin\n"
     ]
    }
   ],
   "source": [
    "print(fullname.title())"
   ]
  },
  {
   "cell_type": "code",
   "execution_count": null,
   "id": "339eab41",
   "metadata": {},
   "outputs": [],
   "source": [
    "Now the above output is in the correct format (the first letter is on both the names are capital letters)"
   ]
  },
  {
   "cell_type": "code",
   "execution_count": null,
   "id": "7007179f",
   "metadata": {},
   "outputs": [],
   "source": []
  },
  {
   "cell_type": "code",
   "execution_count": null,
   "id": "516599c5",
   "metadata": {},
   "outputs": [],
   "source": [
    "#req: wnant to print the fullname in capitals"
   ]
  },
  {
   "cell_type": "code",
   "execution_count": 4,
   "id": "c79cd628",
   "metadata": {},
   "outputs": [
    {
     "name": "stdout",
     "output_type": "stream",
     "text": [
      "RAJESH ROBIN\n"
     ]
    }
   ],
   "source": [
    "print(fullname.upper())"
   ]
  },
  {
   "cell_type": "code",
   "execution_count": null,
   "id": "cb96b673",
   "metadata": {},
   "outputs": [],
   "source": [
    "here the upper metohod is used to print all the letters in the captals."
   ]
  },
  {
   "cell_type": "code",
   "execution_count": null,
   "id": "c7695fac",
   "metadata": {},
   "outputs": [],
   "source": []
  },
  {
   "cell_type": "code",
   "execution_count": null,
   "id": "8f64b7eb",
   "metadata": {},
   "outputs": [],
   "source": [
    "#req: want to print the fullname in small case letters"
   ]
  },
  {
   "cell_type": "code",
   "execution_count": 5,
   "id": "d0dcbdd1",
   "metadata": {},
   "outputs": [
    {
     "name": "stdout",
     "output_type": "stream",
     "text": [
      "rajesh robin\n"
     ]
    }
   ],
   "source": [
    "print(fullname.lower())"
   ]
  },
  {
   "cell_type": "code",
   "execution_count": null,
   "id": "726637fa",
   "metadata": {},
   "outputs": [],
   "source": [
    "here the lower method is used to print all the letters in the lower case"
   ]
  },
  {
   "cell_type": "code",
   "execution_count": null,
   "id": "693d62e7",
   "metadata": {},
   "outputs": [],
   "source": []
  },
  {
   "cell_type": "code",
   "execution_count": 13,
   "id": "2662ec92",
   "metadata": {},
   "outputs": [],
   "source": [
    "firstname = 'kruthika'\n",
    "lastname = 'laasya'"
   ]
  },
  {
   "cell_type": "code",
   "execution_count": null,
   "id": "0be29d3c",
   "metadata": {},
   "outputs": [],
   "source": [
    "#req : want to get the fullname "
   ]
  },
  {
   "cell_type": "code",
   "execution_count": null,
   "id": "9a12b9a5",
   "metadata": {},
   "outputs": [],
   "source": []
  },
  {
   "cell_type": "code",
   "execution_count": null,
   "id": "d71ab165",
   "metadata": {},
   "outputs": [],
   "source": [
    "Introduction to f strings****"
   ]
  },
  {
   "cell_type": "code",
   "execution_count": null,
   "id": "5295f50d",
   "metadata": {},
   "outputs": [],
   "source": [
    "#general syntax of an f string"
   ]
  },
  {
   "cell_type": "code",
   "execution_count": null,
   "id": "ae9ac440",
   "metadata": {},
   "outputs": [],
   "source": [
    "f\"custom words, {placeholder1} {placeholder2}.....{placeholde...n}\" here the placeholders are trying to build the relation from one point to onter"
   ]
  },
  {
   "cell_type": "code",
   "execution_count": 14,
   "id": "06d38196",
   "metadata": {},
   "outputs": [
    {
     "name": "stdout",
     "output_type": "stream",
     "text": [
      "kruthika laasya\n"
     ]
    }
   ],
   "source": [
    "fullname = f\"{firstname} {lastname}\"\n",
    "print(fullname)"
   ]
  },
  {
   "cell_type": "code",
   "execution_count": 11,
   "id": "2333bee9",
   "metadata": {},
   "outputs": [
    {
     "name": "stdout",
     "output_type": "stream",
     "text": [
      "kruthika laasya\n"
     ]
    }
   ],
   "source": [
    "print(fullname)"
   ]
  },
  {
   "cell_type": "code",
   "execution_count": null,
   "id": "c7682ec6",
   "metadata": {},
   "outputs": [],
   "source": [
    "the above output is not in the correct format to write it in a correct format use title()"
   ]
  },
  {
   "cell_type": "code",
   "execution_count": 12,
   "id": "b84e1e4c",
   "metadata": {},
   "outputs": [
    {
     "name": "stdout",
     "output_type": "stream",
     "text": [
      "Kruthika Laasya\n"
     ]
    }
   ],
   "source": [
    "print(fullname.title())"
   ]
  },
  {
   "cell_type": "code",
   "execution_count": null,
   "id": "0e0f4303",
   "metadata": {
    "collapsed": true
   },
   "outputs": [],
   "source": [
    "now the output is i the correct format"
   ]
  },
  {
   "cell_type": "code",
   "execution_count": null,
   "id": "8d671b83",
   "metadata": {},
   "outputs": [],
   "source": []
  },
  {
   "cell_type": "code",
   "execution_count": null,
   "id": "a830513f",
   "metadata": {},
   "outputs": [],
   "source": [
    "# to appreciate kruthika"
   ]
  },
  {
   "cell_type": "code",
   "execution_count": 15,
   "id": "7ba245db",
   "metadata": {},
   "outputs": [
    {
     "name": "stdout",
     "output_type": "stream",
     "text": [
      "good luck, Kruthika Laasya\n"
     ]
    }
   ],
   "source": [
    "message = f\"good luck, {fullname.title()}\"\n",
    "print(message)"
   ]
  },
  {
   "cell_type": "code",
   "execution_count": null,
   "id": "baca853b",
   "metadata": {},
   "outputs": [],
   "source": []
  },
  {
   "cell_type": "code",
   "execution_count": null,
   "id": "e1f2f7dc",
   "metadata": {},
   "outputs": [],
   "source": [
    "adding whtespaces to strings;"
   ]
  },
  {
   "cell_type": "code",
   "execution_count": null,
   "id": "b5235482",
   "metadata": {},
   "outputs": [],
   "source": []
  },
  {
   "cell_type": "code",
   "execution_count": null,
   "id": "97d99d09",
   "metadata": {},
   "outputs": [],
   "source": [
    "#req : survey to choose the fav prog lang"
   ]
  },
  {
   "cell_type": "code",
   "execution_count": 17,
   "id": "f86491fe",
   "metadata": {},
   "outputs": [
    {
     "name": "stdout",
     "output_type": "stream",
     "text": [
      "favourite_language:pythoncjavac++\n"
     ]
    }
   ],
   "source": [
    "print('favourite_language:pythoncjavac++')"
   ]
  },
  {
   "cell_type": "code",
   "execution_count": null,
   "id": "eceaef61",
   "metadata": {},
   "outputs": [],
   "source": [
    "in the above output there is no format its printing randomely, so to print it in a correct maaner we are using \\n"
   ]
  },
  {
   "cell_type": "code",
   "execution_count": 18,
   "id": "a5c3812c",
   "metadata": {},
   "outputs": [
    {
     "name": "stdout",
     "output_type": "stream",
     "text": [
      "favourite_language:\n",
      "python\n",
      "c\n",
      "java\n",
      "c++\n"
     ]
    }
   ],
   "source": [
    "print('favourite_language:\\npython\\nc\\njava\\nc++')"
   ]
  },
  {
   "cell_type": "code",
   "execution_count": null,
   "id": "faa41c16",
   "metadata": {},
   "outputs": [],
   "source": [
    "here the output it prinitig in the right format\n",
    "\\n ---> its called as new line delimiter"
   ]
  },
  {
   "cell_type": "code",
   "execution_count": 20,
   "id": "52f8ad0e",
   "metadata": {},
   "outputs": [
    {
     "name": "stdout",
     "output_type": "stream",
     "text": [
      "favourite_language:\n",
      "\tpython\n",
      "\tc\n",
      "\tjava\n",
      "c++\n"
     ]
    }
   ],
   "source": [
    "print('favourite_language:\\n\\tpython\\n\\tc\\n\\tjava\\nc++')"
   ]
  },
  {
   "cell_type": "code",
   "execution_count": null,
   "id": "b5959cd7",
   "metadata": {},
   "outputs": [],
   "source": []
  },
  {
   "cell_type": "code",
   "execution_count": 21,
   "id": "3448f9f9",
   "metadata": {},
   "outputs": [
    {
     "name": "stdout",
     "output_type": "stream",
     "text": [
      "favourite_language:\n",
      "\tpython\n",
      "\tc\n",
      "\tjava\n",
      "\tc++\n"
     ]
    }
   ],
   "source": [
    "print('favourite_language:\\n\\tpython\\n\\tc\\n\\tjava\\n\\tc++')"
   ]
  },
  {
   "cell_type": "code",
   "execution_count": null,
   "id": "ccc541a8",
   "metadata": {},
   "outputs": [],
   "source": [
    "here the outpt is shifted right for 4tabs\n",
    "\\t ---> its called as tab delimiter"
   ]
  },
  {
   "cell_type": "code",
   "execution_count": null,
   "id": "cebe9d9c",
   "metadata": {},
   "outputs": [],
   "source": []
  },
  {
   "cell_type": "code",
   "execution_count": null,
   "id": "50fe39fc",
   "metadata": {},
   "outputs": [],
   "source": [
    "Adding whitespaces to strings:"
   ]
  },
  {
   "cell_type": "code",
   "execution_count": 22,
   "id": "7bebe6db",
   "metadata": {},
   "outputs": [
    {
     "name": "stdout",
     "output_type": "stream",
     "text": [
      "banu\n"
     ]
    }
   ],
   "source": [
    "name = 'banu'\n",
    "print(name)"
   ]
  },
  {
   "cell_type": "code",
   "execution_count": 23,
   "id": "bbebdf1b",
   "metadata": {},
   "outputs": [
    {
     "name": "stdout",
     "output_type": "stream",
     "text": [
      "    banu\n"
     ]
    }
   ],
   "source": [
    "name1 = '    banu'      # the whitespace(gap) is added to the leftside\n",
    "print(name1)"
   ]
  },
  {
   "cell_type": "code",
   "execution_count": 24,
   "id": "3385d45f",
   "metadata": {},
   "outputs": [
    {
     "name": "stdout",
     "output_type": "stream",
     "text": [
      "banu    \n"
     ]
    }
   ],
   "source": [
    "name2 = 'banu    '     # the whitespace(gap) is added to the rightside but its invisible, looks like in the coorect format\n",
    "print(name2)"
   ]
  },
  {
   "cell_type": "code",
   "execution_count": null,
   "id": "e8cdd9c6",
   "metadata": {},
   "outputs": [],
   "source": [
    "#we have to make sure that our code is free from unnecessary data parts or spaces"
   ]
  },
  {
   "cell_type": "code",
   "execution_count": null,
   "id": "1c637973",
   "metadata": {},
   "outputs": [],
   "source": []
  },
  {
   "cell_type": "code",
   "execution_count": null,
   "id": "8163849e",
   "metadata": {},
   "outputs": [],
   "source": [
    "Removing whitespcaces from strings:"
   ]
  },
  {
   "cell_type": "code",
   "execution_count": null,
   "id": "9e2eeab4",
   "metadata": {},
   "outputs": [],
   "source": [
    "to remove leftside whitespace(gap)"
   ]
  },
  {
   "cell_type": "code",
   "execution_count": 27,
   "id": "dab7bec0",
   "metadata": {},
   "outputs": [
    {
     "name": "stdout",
     "output_type": "stream",
     "text": [
      "banu\n"
     ]
    }
   ],
   "source": [
    "print(name1.lstrip())   # it will check for the leftside gap and remove it"
   ]
  },
  {
   "cell_type": "code",
   "execution_count": null,
   "id": "d752fc9f",
   "metadata": {},
   "outputs": [],
   "source": []
  },
  {
   "cell_type": "code",
   "execution_count": null,
   "id": "741dbcdc",
   "metadata": {},
   "outputs": [],
   "source": [
    "to remove rightside whitespace(gap)"
   ]
  },
  {
   "cell_type": "code",
   "execution_count": 28,
   "id": "506681ff",
   "metadata": {},
   "outputs": [
    {
     "name": "stdout",
     "output_type": "stream",
     "text": [
      "banu\n"
     ]
    }
   ],
   "source": [
    "print(name2.rstrip())    # it will chec for the rightside gap and remove it"
   ]
  },
  {
   "cell_type": "code",
   "execution_count": null,
   "id": "9b6db357",
   "metadata": {},
   "outputs": [],
   "source": []
  },
  {
   "cell_type": "code",
   "execution_count": 30,
   "id": "e19982fa",
   "metadata": {},
   "outputs": [
    {
     "name": "stdout",
     "output_type": "stream",
     "text": [
      "    koushik  \n"
     ]
    }
   ],
   "source": [
    "name3 = '    koushik  '\n",
    "print(name3)"
   ]
  },
  {
   "cell_type": "code",
   "execution_count": 31,
   "id": "66abf06e",
   "metadata": {},
   "outputs": [
    {
     "name": "stdout",
     "output_type": "stream",
     "text": [
      "koushik\n"
     ]
    }
   ],
   "source": [
    "print(name3.strip())   # check on both right and leftside gaps and then elimintae the gap"
   ]
  },
  {
   "cell_type": "code",
   "execution_count": null,
   "id": "59fd8439",
   "metadata": {},
   "outputs": [],
   "source": []
  },
  {
   "cell_type": "code",
   "execution_count": null,
   "id": "1cdb20ab",
   "metadata": {},
   "outputs": [],
   "source": []
  },
  {
   "cell_type": "code",
   "execution_count": null,
   "id": "97202e92",
   "metadata": {},
   "outputs": [],
   "source": []
  },
  {
   "cell_type": "code",
   "execution_count": null,
   "id": "d1c3a7cb",
   "metadata": {},
   "outputs": [],
   "source": []
  },
  {
   "cell_type": "code",
   "execution_count": null,
   "id": "caf31725",
   "metadata": {},
   "outputs": [],
   "source": []
  }
 ],
 "metadata": {
  "kernelspec": {
   "display_name": "Python 3",
   "language": "python",
   "name": "python3"
  },
  "language_info": {
   "codemirror_mode": {
    "name": "ipython",
    "version": 3
   },
   "file_extension": ".py",
   "mimetype": "text/x-python",
   "name": "python",
   "nbconvert_exporter": "python",
   "pygments_lexer": "ipython3",
   "version": "3.8.8"
  }
 },
 "nbformat": 4,
 "nbformat_minor": 5
}
