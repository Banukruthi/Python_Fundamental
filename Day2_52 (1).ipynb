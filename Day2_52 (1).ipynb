{
 "cells": [
  {
   "cell_type": "code",
   "execution_count": null,
   "id": "b75f1e2c",
   "metadata": {},
   "outputs": [],
   "source": [
    "Understanding the variables in python"
   ]
  },
  {
   "cell_type": "code",
   "execution_count": 1,
   "id": "6ef4633d",
   "metadata": {},
   "outputs": [
    {
     "name": "stdout",
     "output_type": "stream",
     "text": [
      "8\n"
     ]
    }
   ],
   "source": [
    "x = 5\n",
    "y = 3\n",
    "z = x+y\n",
    "print(z)"
   ]
  },
  {
   "cell_type": "code",
   "execution_count": null,
   "id": "fe378076",
   "metadata": {},
   "outputs": [],
   "source": []
  },
  {
   "cell_type": "code",
   "execution_count": null,
   "id": "106fb4eb",
   "metadata": {},
   "outputs": [],
   "source": [
    "Rules for declaring the variables in python"
   ]
  },
  {
   "cell_type": "code",
   "execution_count": null,
   "id": "766b5062",
   "metadata": {},
   "outputs": [],
   "source": [
    "Rule no.1 : No namespaces while declaring the variable name"
   ]
  },
  {
   "cell_type": "code",
   "execution_count": 2,
   "id": "daa356bf",
   "metadata": {},
   "outputs": [
    {
     "ename": "SyntaxError",
     "evalue": "invalid syntax (<ipython-input-2-bc8ae9b8ec48>, line 1)",
     "output_type": "error",
     "traceback": [
      "\u001b[1;36m  File \u001b[1;32m\"<ipython-input-2-bc8ae9b8ec48>\"\u001b[1;36m, line \u001b[1;32m1\u001b[0m\n\u001b[1;33m    first name = 'kruthika'\u001b[0m\n\u001b[1;37m          ^\u001b[0m\n\u001b[1;31mSyntaxError\u001b[0m\u001b[1;31m:\u001b[0m invalid syntax\n"
     ]
    }
   ],
   "source": [
    "first name = 'kruthika'"
   ]
  },
  {
   "cell_type": "code",
   "execution_count": 4,
   "id": "a47273c0",
   "metadata": {},
   "outputs": [
    {
     "name": "stdout",
     "output_type": "stream",
     "text": [
      "kruthika\n"
     ]
    }
   ],
   "source": [
    "firstname = 'kruthika'\n",
    "print(firstname)"
   ]
  },
  {
   "cell_type": "code",
   "execution_count": null,
   "id": "6df2ca5e",
   "metadata": {},
   "outputs": [],
   "source": []
  },
  {
   "cell_type": "code",
   "execution_count": null,
   "id": "5799f125",
   "metadata": {},
   "outputs": [],
   "source": [
    "Rule no.2 : A variable name shoud not start with a number *** "
   ]
  },
  {
   "cell_type": "code",
   "execution_count": 5,
   "id": "25e46b22",
   "metadata": {},
   "outputs": [
    {
     "ename": "SyntaxError",
     "evalue": "invalid syntax (<ipython-input-5-0b17884c18e5>, line 1)",
     "output_type": "error",
     "traceback": [
      "\u001b[1;36m  File \u001b[1;32m\"<ipython-input-5-0b17884c18e5>\"\u001b[1;36m, line \u001b[1;32m1\u001b[0m\n\u001b[1;33m    2name = 'kruthika'\u001b[0m\n\u001b[1;37m     ^\u001b[0m\n\u001b[1;31mSyntaxError\u001b[0m\u001b[1;31m:\u001b[0m invalid syntax\n"
     ]
    }
   ],
   "source": [
    "2name = 'kruthika'"
   ]
  },
  {
   "cell_type": "code",
   "execution_count": 7,
   "id": "29c332fb",
   "metadata": {},
   "outputs": [
    {
     "name": "stdout",
     "output_type": "stream",
     "text": [
      "kruthika\n"
     ]
    }
   ],
   "source": [
    "name2 = 'kruthika'\n",
    "print(name2)"
   ]
  },
  {
   "cell_type": "code",
   "execution_count": null,
   "id": "288a570a",
   "metadata": {},
   "outputs": [],
   "source": []
  },
  {
   "cell_type": "code",
   "execution_count": null,
   "id": "ebd34f7d",
   "metadata": {},
   "outputs": [],
   "source": [
    "Rule no.3 : A variable name shuold not contain any special characters(@#$%)"
   ]
  },
  {
   "cell_type": "code",
   "execution_count": 8,
   "id": "ce48a1c6",
   "metadata": {},
   "outputs": [
    {
     "ename": "SyntaxError",
     "evalue": "invalid syntax (<ipython-input-8-1898df988221>, line 1)",
     "output_type": "error",
     "traceback": [
      "\u001b[1;36m  File \u001b[1;32m\"<ipython-input-8-1898df988221>\"\u001b[1;36m, line \u001b[1;32m1\u001b[0m\n\u001b[1;33m    name@ = 'john'\u001b[0m\n\u001b[1;37m          ^\u001b[0m\n\u001b[1;31mSyntaxError\u001b[0m\u001b[1;31m:\u001b[0m invalid syntax\n"
     ]
    }
   ],
   "source": [
    "name@ = 'john'"
   ]
  },
  {
   "cell_type": "code",
   "execution_count": null,
   "id": "b3b553ac",
   "metadata": {},
   "outputs": [],
   "source": []
  },
  {
   "cell_type": "code",
   "execution_count": null,
   "id": "34ded8fd",
   "metadata": {},
   "outputs": [],
   "source": [
    "Introduction to datatypes in python.\n",
    "1. string ---> str\n",
    "2. numbers ---> integers(int) and floats(decimals)\n",
    "3. list ---> list\n",
    "4. tuple ---> tuple\n",
    "5. dictionaries ---> dict"
   ]
  },
  {
   "cell_type": "code",
   "execution_count": null,
   "id": "c2f38497",
   "metadata": {},
   "outputs": [],
   "source": []
  },
  {
   "cell_type": "code",
   "execution_count": null,
   "id": "4f87fd4d",
   "metadata": {},
   "outputs": [],
   "source": [
    "Classification of datatypes:\n",
    "    1. mutable datatype ---> we can be able to change or edit the data(flexible)\n",
    "    2. immutable datatype ---> we will not be able to change or edit the data(fixed)"
   ]
  },
  {
   "cell_type": "code",
   "execution_count": null,
   "id": "f0e595d5",
   "metadata": {},
   "outputs": [],
   "source": []
  },
  {
   "cell_type": "code",
   "execution_count": null,
   "id": "f9e57195",
   "metadata": {},
   "outputs": [],
   "source": [
    "Introduction to string datatype:"
   ]
  },
  {
   "cell_type": "code",
   "execution_count": null,
   "id": "6eb3194a",
   "metadata": {},
   "outputs": [],
   "source": [
    "Definition : A srting is a series of characters enclosed in quotes.\n",
    "    Classification : it is classified as immutable datatype\n",
    "        \n",
    "        we can declare a string in 3 possible ways\n",
    "        \n",
    "        1. Single quote\n",
    "        2. Double quote\n",
    "        3 . Triple quote"
   ]
  },
  {
   "cell_type": "code",
   "execution_count": null,
   "id": "cafb4e97",
   "metadata": {},
   "outputs": [],
   "source": []
  },
  {
   "cell_type": "code",
   "execution_count": 9,
   "id": "ab38605e",
   "metadata": {},
   "outputs": [
    {
     "name": "stdout",
     "output_type": "stream",
     "text": [
      "kruthika\n"
     ]
    }
   ],
   "source": [
    "name = 'kruthika'         # single quote(# is used for coomenting the line in pyhton)\n",
    "print(name)"
   ]
  },
  {
   "cell_type": "code",
   "execution_count": null,
   "id": "de4b73d1",
   "metadata": {},
   "outputs": [],
   "source": []
  },
  {
   "cell_type": "code",
   "execution_count": 10,
   "id": "e849e982",
   "metadata": {},
   "outputs": [
    {
     "name": "stdout",
     "output_type": "stream",
     "text": [
      "kruthika\n"
     ]
    }
   ],
   "source": [
    "name = \"kruthika\"     # double quote\n",
    "print(name)"
   ]
  },
  {
   "cell_type": "code",
   "execution_count": null,
   "id": "b2886e87",
   "metadata": {},
   "outputs": [],
   "source": []
  },
  {
   "cell_type": "code",
   "execution_count": 11,
   "id": "c55d558a",
   "metadata": {},
   "outputs": [
    {
     "name": "stdout",
     "output_type": "stream",
     "text": [
      "'kruthika'\n"
     ]
    }
   ],
   "source": [
    "name = \"'kruthika'\"\n",
    "print(name)"
   ]
  },
  {
   "cell_type": "code",
   "execution_count": null,
   "id": "c541229a",
   "metadata": {},
   "outputs": [],
   "source": []
  },
  {
   "cell_type": "code",
   "execution_count": 12,
   "id": "846c3586",
   "metadata": {},
   "outputs": [],
   "source": [
    "# is used for commenting the line in python "
   ]
  },
  {
   "cell_type": "code",
   "execution_count": 13,
   "id": "5cac87b4",
   "metadata": {},
   "outputs": [
    {
     "ename": "SyntaxError",
     "evalue": "invalid syntax (<ipython-input-13-1d864c3c1a74>, line 1)",
     "output_type": "error",
     "traceback": [
      "\u001b[1;36m  File \u001b[1;32m\"<ipython-input-13-1d864c3c1a74>\"\u001b[1;36m, line \u001b[1;32m1\u001b[0m\n\u001b[1;33m    is used for commenting the line in pyhton\u001b[0m\n\u001b[1;37m    ^\u001b[0m\n\u001b[1;31mSyntaxError\u001b[0m\u001b[1;31m:\u001b[0m invalid syntax\n"
     ]
    }
   ],
   "source": [
    "is used for commenting the line in pyhton"
   ]
  },
  {
   "cell_type": "code",
   "execution_count": null,
   "id": "dddc2547",
   "metadata": {},
   "outputs": [],
   "source": []
  },
  {
   "cell_type": "code",
   "execution_count": null,
   "id": "c040661f",
   "metadata": {},
   "outputs": [],
   "source": [
    "introduction to string methods.\n",
    "\n",
    "methods are builtin programs which are readily available to use in python."
   ]
  },
  {
   "cell_type": "code",
   "execution_count": 14,
   "id": "f5db8a2a",
   "metadata": {},
   "outputs": [
    {
     "data": {
      "text/plain": [
       "str"
      ]
     },
     "execution_count": 14,
     "metadata": {},
     "output_type": "execute_result"
    }
   ],
   "source": [
    "type(name)"
   ]
  },
  {
   "cell_type": "code",
   "execution_count": null,
   "id": "f45d0f3e",
   "metadata": {},
   "outputs": [],
   "source": [
    "type method will help us to validate the datatype"
   ]
  },
  {
   "cell_type": "code",
   "execution_count": null,
   "id": "1ca908a3",
   "metadata": {},
   "outputs": [],
   "source": [
    "Note : Python is a case sensitive language"
   ]
  },
  {
   "cell_type": "code",
   "execution_count": null,
   "id": "655efca8",
   "metadata": {},
   "outputs": [],
   "source": []
  },
  {
   "cell_type": "code",
   "execution_count": null,
   "id": "1f3aa7de",
   "metadata": {},
   "outputs": [],
   "source": []
  },
  {
   "cell_type": "code",
   "execution_count": null,
   "id": "76e30fc6",
   "metadata": {},
   "outputs": [],
   "source": []
  }
 ],
 "metadata": {
  "kernelspec": {
   "display_name": "Python 3",
   "language": "python",
   "name": "python3"
  },
  "language_info": {
   "codemirror_mode": {
    "name": "ipython",
    "version": 3
   },
   "file_extension": ".py",
   "mimetype": "text/x-python",
   "name": "python",
   "nbconvert_exporter": "python",
   "pygments_lexer": "ipython3",
   "version": "3.8.8"
  }
 },
 "nbformat": 4,
 "nbformat_minor": 5
}
