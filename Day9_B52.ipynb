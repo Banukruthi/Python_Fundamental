{
 "cells": [
  {
   "cell_type": "code",
   "execution_count": null,
   "id": "0b1fa73e",
   "metadata": {},
   "outputs": [],
   "source": [
    "Continuation with dictionaries"
   ]
  },
  {
   "cell_type": "code",
   "execution_count": 2,
   "id": "90e05849",
   "metadata": {},
   "outputs": [
    {
     "name": "stdout",
     "output_type": "stream",
     "text": [
      "{'color': 'green', 'points': '5'}\n"
     ]
    }
   ],
   "source": [
    "alien = {'color':'green','points':'5'}\n",
    "print(alien)"
   ]
  },
  {
   "cell_type": "code",
   "execution_count": null,
   "id": "aba0f575",
   "metadata": {},
   "outputs": [],
   "source": []
  },
  {
   "cell_type": "code",
   "execution_count": null,
   "id": "8b4c0f92",
   "metadata": {},
   "outputs": [],
   "source": [
    "#req: i want to know the color of the alien"
   ]
  },
  {
   "cell_type": "code",
   "execution_count": 4,
   "id": "77749292",
   "metadata": {},
   "outputs": [
    {
     "name": "stdout",
     "output_type": "stream",
     "text": [
      "green\n"
     ]
    }
   ],
   "source": [
    "print(alien['color'])"
   ]
  },
  {
   "cell_type": "code",
   "execution_count": null,
   "id": "dff5ff39",
   "metadata": {},
   "outputs": [],
   "source": []
  },
  {
   "cell_type": "code",
   "execution_count": null,
   "id": "76725b78",
   "metadata": {},
   "outputs": [],
   "source": [
    "how to add new key value pairs to the dictionary"
   ]
  },
  {
   "cell_type": "code",
   "execution_count": 5,
   "id": "b9367af2",
   "metadata": {},
   "outputs": [],
   "source": [
    "alien['starting_point'] = 0"
   ]
  },
  {
   "cell_type": "code",
   "execution_count": 6,
   "id": "013bb54e",
   "metadata": {},
   "outputs": [
    {
     "name": "stdout",
     "output_type": "stream",
     "text": [
      "{'color': 'green', 'points': '5', 'starting_point': 0}\n"
     ]
    }
   ],
   "source": [
    "print(alien)"
   ]
  },
  {
   "cell_type": "code",
   "execution_count": null,
   "id": "d61981dd",
   "metadata": {},
   "outputs": [],
   "source": [
    "#req : add the current position"
   ]
  },
  {
   "cell_type": "code",
   "execution_count": 8,
   "id": "347360b4",
   "metadata": {},
   "outputs": [],
   "source": [
    "alien['current_position'] = 10"
   ]
  },
  {
   "cell_type": "code",
   "execution_count": 9,
   "id": "22b71d82",
   "metadata": {},
   "outputs": [
    {
     "name": "stdout",
     "output_type": "stream",
     "text": [
      "{'color': 'green', 'points': '5', 'starting_point': 0, 'current_position': 10}\n"
     ]
    }
   ],
   "source": [
    "print(alien)"
   ]
  },
  {
   "cell_type": "code",
   "execution_count": null,
   "id": "030759d8",
   "metadata": {},
   "outputs": [],
   "source": []
  },
  {
   "cell_type": "code",
   "execution_count": null,
   "id": "c423253d",
   "metadata": {},
   "outputs": [],
   "source": [
    "#req : hoe to modify the values of a particuler key\n",
    "#req : change color to yellow and point to 10"
   ]
  },
  {
   "cell_type": "code",
   "execution_count": 13,
   "id": "2aa2717a",
   "metadata": {},
   "outputs": [],
   "source": [
    "alien['color'] = 'yellow'\n",
    "alien['points'] = 10"
   ]
  },
  {
   "cell_type": "code",
   "execution_count": 14,
   "id": "79fc99d1",
   "metadata": {},
   "outputs": [
    {
     "name": "stdout",
     "output_type": "stream",
     "text": [
      "{'color': 'yellow', 'points': 10, 'starting_point': 0, 'current_position': 10, 'colror': 'yellow'}\n"
     ]
    }
   ],
   "source": [
    "print(alien)"
   ]
  },
  {
   "cell_type": "code",
   "execution_count": null,
   "id": "4c55c141",
   "metadata": {},
   "outputs": [],
   "source": []
  },
  {
   "cell_type": "code",
   "execution_count": null,
   "id": "5083fd74",
   "metadata": {},
   "outputs": [],
   "source": [
    "#req : craete a facebook user account: "
   ]
  },
  {
   "cell_type": "code",
   "execution_count": null,
   "id": "159e10a9",
   "metadata": {},
   "outputs": [],
   "source": []
  },
  {
   "cell_type": "code",
   "execution_count": 16,
   "id": "3d68a007",
   "metadata": {},
   "outputs": [],
   "source": [
    "useraccount = {'username':'codetrainingacademy','firstname':'codetraining','lastname':'academy','dob':'01-01-2019','pwd':'54321'}"
   ]
  },
  {
   "cell_type": "code",
   "execution_count": 18,
   "id": "35e5a9d3",
   "metadata": {},
   "outputs": [
    {
     "name": "stdout",
     "output_type": "stream",
     "text": [
      "{'username': 'codetrainingacademy', 'firstname': 'codetraining', 'lastname': 'academy', 'dob': '01-01-2019', 'pwd': '54321'}\n"
     ]
    }
   ],
   "source": [
    "print(useraccount)"
   ]
  },
  {
   "cell_type": "raw",
   "id": "4196e91f",
   "metadata": {},
   "source": [
    "#req:"
   ]
  },
  {
   "cell_type": "code",
   "execution_count": 19,
   "id": "0b9f2654",
   "metadata": {},
   "outputs": [],
   "source": [
    "useraccount['location'] = 'farzicafe'"
   ]
  },
  {
   "cell_type": "code",
   "execution_count": 20,
   "id": "116860bf",
   "metadata": {},
   "outputs": [
    {
     "name": "stdout",
     "output_type": "stream",
     "text": [
      "{'username': 'codetrainingacademy', 'firstname': 'codetraining', 'lastname': 'academy', 'dob': '01-01-2019', 'pwd': '54321', 'location': 'farzicafe'}\n"
     ]
    }
   ],
   "source": [
    "print(useraccount)"
   ]
  },
  {
   "cell_type": "code",
   "execution_count": null,
   "id": "e2be3b7e",
   "metadata": {},
   "outputs": [],
   "source": []
  },
  {
   "cell_type": "raw",
   "id": "9ef02fbd",
   "metadata": {},
   "source": [
    "#req: how to delete the key value pairs from the dictionary"
   ]
  },
  {
   "cell_type": "code",
   "execution_count": 21,
   "id": "78b1797c",
   "metadata": {},
   "outputs": [
    {
     "name": "stdout",
     "output_type": "stream",
     "text": [
      "{'color': 'yellow', 'points': 10, 'starting_point': 0, 'current_position': 10, 'colror': 'yellow'}\n"
     ]
    }
   ],
   "source": [
    "print(alien)"
   ]
  },
  {
   "cell_type": "code",
   "execution_count": null,
   "id": "b6aab08f",
   "metadata": {},
   "outputs": [],
   "source": [
    "#req : to delete the colror of the alien"
   ]
  },
  {
   "cell_type": "code",
   "execution_count": 22,
   "id": "ce842068",
   "metadata": {},
   "outputs": [],
   "source": [
    "del alien['colror']"
   ]
  },
  {
   "cell_type": "code",
   "execution_count": 23,
   "id": "d444cf63",
   "metadata": {},
   "outputs": [
    {
     "name": "stdout",
     "output_type": "stream",
     "text": [
      "{'color': 'yellow', 'points': 10, 'starting_point': 0, 'current_position': 10}\n"
     ]
    }
   ],
   "source": [
    "print(alien)"
   ]
  },
  {
   "cell_type": "code",
   "execution_count": null,
   "id": "adaaff95",
   "metadata": {},
   "outputs": [],
   "source": []
  },
  {
   "cell_type": "code",
   "execution_count": null,
   "id": "2f49b1ac",
   "metadata": {},
   "outputs": [],
   "source": [
    "for loop implementation on top of a dictionary"
   ]
  },
  {
   "cell_type": "code",
   "execution_count": 25,
   "id": "f33a0d59",
   "metadata": {},
   "outputs": [
    {
     "ename": "NameError",
     "evalue": "name 'mainvar' is not defined",
     "output_type": "error",
     "traceback": [
      "\u001b[1;31m---------------------------------------------------------------------------\u001b[0m",
      "\u001b[1;31mNameError\u001b[0m                                 Traceback (most recent call last)",
      "\u001b[1;32m<ipython-input-25-8f97037b4fd5>\u001b[0m in \u001b[0;36m<module>\u001b[1;34m\u001b[0m\n\u001b[1;32m----> 1\u001b[1;33m \u001b[1;32mfor\u001b[0m \u001b[0mtempvar1\u001b[0m\u001b[1;33m,\u001b[0m \u001b[0mtempvar2\u001b[0m \u001b[1;32min\u001b[0m \u001b[0mmainvar\u001b[0m\u001b[1;33m.\u001b[0m\u001b[0mitems\u001b[0m\u001b[1;33m(\u001b[0m\u001b[1;33m)\u001b[0m\u001b[1;33m:\u001b[0m\u001b[1;33m\u001b[0m\u001b[1;33m\u001b[0m\u001b[0m\n\u001b[0m\u001b[0;32m      2\u001b[0m     \u001b[0mprint\u001b[0m\u001b[1;33m(\u001b[0m\u001b[0mtempvar1\u001b[0m\u001b[1;33m)\u001b[0m\u001b[1;33m\u001b[0m\u001b[1;33m\u001b[0m\u001b[0m\n\u001b[0;32m      3\u001b[0m     \u001b[0mprint\u001b[0m\u001b[1;33m(\u001b[0m\u001b[0mtempvar2\u001b[0m\u001b[1;33m)\u001b[0m\u001b[1;33m\u001b[0m\u001b[1;33m\u001b[0m\u001b[0m\n",
      "\u001b[1;31mNameError\u001b[0m: name 'mainvar' is not defined"
     ]
    }
   ],
   "source": [
    "for tempvar1, tempvar2 in mainvar.items():\n",
    "    print(tempvar1)\n",
    "    print(tempvar2)"
   ]
  },
  {
   "cell_type": "code",
   "execution_count": 26,
   "id": "46193220",
   "metadata": {},
   "outputs": [
    {
     "name": "stdout",
     "output_type": "stream",
     "text": [
      "color\n",
      "yellow\n",
      "points\n",
      "10\n",
      "starting_point\n",
      "0\n",
      "current_position\n",
      "10\n"
     ]
    }
   ],
   "source": [
    "for k,v in alien.items():\n",
    "    print(k)\n",
    "    print(v)"
   ]
  },
  {
   "cell_type": "code",
   "execution_count": null,
   "id": "27557aab",
   "metadata": {},
   "outputs": [],
   "source": []
  },
  {
   "cell_type": "code",
   "execution_count": 28,
   "id": "61c92932",
   "metadata": {},
   "outputs": [
    {
     "name": "stdout",
     "output_type": "stream",
     "text": [
      "username\n",
      "codetrainingacademy\n",
      "firstname\n",
      "codetraining\n",
      "lastname\n",
      "academy\n",
      "dob\n",
      "01-01-2019\n",
      "pwd\n",
      "54321\n",
      "location\n",
      "farzicafe\n"
     ]
    }
   ],
   "source": [
    "for a,b in useraccount.items():\n",
    "    print(a)\n",
    "    print(b)"
   ]
  },
  {
   "cell_type": "code",
   "execution_count": null,
   "id": "9f0c6344",
   "metadata": {},
   "outputs": [],
   "source": []
  },
  {
   "cell_type": "code",
   "execution_count": null,
   "id": "49844030",
   "metadata": {},
   "outputs": [],
   "source": [
    "#enhancement of the code"
   ]
  },
  {
   "cell_type": "code",
   "execution_count": 29,
   "id": "87618287",
   "metadata": {},
   "outputs": [
    {
     "name": "stdout",
     "output_type": "stream",
     "text": [
      "key: username\n",
      "value: codetrainingacademy\n",
      "key: firstname\n",
      "value: codetraining\n",
      "key: lastname\n",
      "value: academy\n",
      "key: dob\n",
      "value: 01-01-2019\n",
      "key: pwd\n",
      "value: 54321\n",
      "key: location\n",
      "value: farzicafe\n"
     ]
    }
   ],
   "source": [
    "for a,b in useraccount.items():\n",
    "    print(f\"key: {a}\")\n",
    "    print(f\"value: {b}\")"
   ]
  },
  {
   "cell_type": "code",
   "execution_count": null,
   "id": "a397ccb2",
   "metadata": {},
   "outputs": [],
   "source": []
  },
  {
   "cell_type": "code",
   "execution_count": null,
   "id": "ec4fa6db",
   "metadata": {},
   "outputs": [],
   "source": [
    "#enhancement of the code"
   ]
  },
  {
   "cell_type": "code",
   "execution_count": 30,
   "id": "e04b6517",
   "metadata": {},
   "outputs": [
    {
     "name": "stdout",
     "output_type": "stream",
     "text": [
      "key: username\n",
      "value: codetrainingacademy,\n",
      "\n",
      "key: firstname\n",
      "value: codetraining,\n",
      "\n",
      "key: lastname\n",
      "value: academy,\n",
      "\n",
      "key: dob\n",
      "value: 01-01-2019,\n",
      "\n",
      "key: pwd\n",
      "value: 54321,\n",
      "\n",
      "key: location\n",
      "value: farzicafe,\n",
      "\n"
     ]
    }
   ],
   "source": [
    "for a,b in useraccount.items():\n",
    "    print(f\"key: {a}\")\n",
    "    print(f\"value: {b},\\n\")"
   ]
  },
  {
   "cell_type": "code",
   "execution_count": null,
   "id": "d2795898",
   "metadata": {},
   "outputs": [],
   "source": []
  },
  {
   "cell_type": "code",
   "execution_count": null,
   "id": "92621365",
   "metadata": {},
   "outputs": [],
   "source": [
    "#req : mi want to ge only keys from the above."
   ]
  },
  {
   "cell_type": "code",
   "execution_count": 31,
   "id": "2094b1dc",
   "metadata": {},
   "outputs": [
    {
     "name": "stdout",
     "output_type": "stream",
     "text": [
      "key: username\n",
      "key: firstname\n",
      "key: lastname\n",
      "key: dob\n",
      "key: pwd\n",
      "key: location\n"
     ]
    }
   ],
   "source": [
    "for a,b in useraccount.items():\n",
    "    print(f\"key: {a}\")"
   ]
  },
  {
   "cell_type": "code",
   "execution_count": null,
   "id": "a3088a36",
   "metadata": {},
   "outputs": [],
   "source": []
  },
  {
   "cell_type": "code",
   "execution_count": null,
   "id": "1e3b8c14",
   "metadata": {},
   "outputs": [],
   "source": [
    "#req : i want to get only values from the above"
   ]
  },
  {
   "cell_type": "code",
   "execution_count": 34,
   "id": "4b6a96d8",
   "metadata": {},
   "outputs": [
    {
     "name": "stdout",
     "output_type": "stream",
     "text": [
      "value: codetrainingacademy\n",
      "value: codetraining\n",
      "value: academy\n",
      "value: 01-01-2019\n",
      "value: 54321\n",
      "value: farzicafe\n"
     ]
    }
   ],
   "source": [
    "for a,b in useraccount.items():\n",
    "    print(f\"value: {b}\")"
   ]
  },
  {
   "cell_type": "code",
   "execution_count": null,
   "id": "619deaba",
   "metadata": {},
   "outputs": [],
   "source": []
  }
 ],
 "metadata": {
  "kernelspec": {
   "display_name": "Python 3",
   "language": "python",
   "name": "python3"
  },
  "language_info": {
   "codemirror_mode": {
    "name": "ipython",
    "version": 3
   },
   "file_extension": ".py",
   "mimetype": "text/x-python",
   "name": "python",
   "nbconvert_exporter": "python",
   "pygments_lexer": "ipython3",
   "version": "3.8.8"
  }
 },
 "nbformat": 4,
 "nbformat_minor": 5
}
