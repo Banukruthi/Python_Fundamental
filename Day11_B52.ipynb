{
 "cells": [
  {
   "cell_type": "code",
   "execution_count": null,
   "id": "64ce665b",
   "metadata": {},
   "outputs": [],
   "source": [
    "Introduction to python classes"
   ]
  },
  {
   "cell_type": "code",
   "execution_count": null,
   "id": "69b4fe50",
   "metadata": {},
   "outputs": [],
   "source": []
  },
  {
   "cell_type": "code",
   "execution_count": null,
   "id": "997983b1",
   "metadata": {},
   "outputs": [],
   "source": [
    "class  =====> it is a high level blue print of the program.it is defined by using the keyword called as class.\n",
    "fos declaring a class name we will be using the title case name.\n",
    "\n",
    "methods ====> a function written inside a class is termed as method\n",
    "\n",
    "attributes ===> a variable written inside the class is called as attribute.\n",
    "\n",
    "self ====> it is a temporary place holder for the object.\n",
    "\n",
    "object / instance ====> it is an entry / access point to the class methods."
   ]
  },
  {
   "cell_type": "code",
   "execution_count": null,
   "id": "2cd10278",
   "metadata": {},
   "outputs": [],
   "source": []
  },
  {
   "cell_type": "code",
   "execution_count": null,
   "id": "8cb5aad0",
   "metadata": {},
   "outputs": [],
   "source": [
    "#req : create a class name called Greet: it needs to hve the below methods\n",
    "\n",
    "#1. createname ===> it needs accept the input from the user\n",
    "\n",
    "#2. displayname =====> this methid needs to display the name of the user\n",
    "\n",
    "#3. greetuser ====> this method needs to gree the user"
   ]
  },
  {
   "cell_type": "code",
   "execution_count": null,
   "id": "fe9b0c5a",
   "metadata": {},
   "outputs": [],
   "source": []
  },
  {
   "cell_type": "code",
   "execution_count": 1,
   "id": "2d148e9e",
   "metadata": {},
   "outputs": [],
   "source": [
    "class Greet:   # this is the class name\n",
    "    \"\"\"creating a Greet class\"\"\"    # this is a doc string\n",
    "    \n",
    "    def createname(self,username):     # parameter    #method name\n",
    "        self.username = username      # attribute\n",
    "        \n",
    "    def displayname(self):    # method name\n",
    "        print(self.username)\n",
    "        \n",
    "    def greetuser(self):     # method name\n",
    "        print( f\"hello, good eve..., {self.username}\")"
   ]
  },
  {
   "cell_type": "code",
   "execution_count": null,
   "id": "552cc9e1",
   "metadata": {},
   "outputs": [],
   "source": []
  },
  {
   "cell_type": "code",
   "execution_count": 2,
   "id": "15fc45ab",
   "metadata": {},
   "outputs": [],
   "source": [
    "test = Greet()"
   ]
  },
  {
   "cell_type": "code",
   "execution_count": 3,
   "id": "9d68a724",
   "metadata": {},
   "outputs": [],
   "source": [
    "test.createname('Kruthika')"
   ]
  },
  {
   "cell_type": "code",
   "execution_count": 4,
   "id": "3ce38a75",
   "metadata": {},
   "outputs": [
    {
     "name": "stdout",
     "output_type": "stream",
     "text": [
      "Kruthika\n"
     ]
    }
   ],
   "source": [
    "test.displayname()"
   ]
  },
  {
   "cell_type": "code",
   "execution_count": 5,
   "id": "df35dd20",
   "metadata": {},
   "outputs": [
    {
     "name": "stdout",
     "output_type": "stream",
     "text": [
      "hello, good eve..., Kruthika\n"
     ]
    }
   ],
   "source": [
    "test.greetuser()"
   ]
  },
  {
   "cell_type": "code",
   "execution_count": 10,
   "id": "06ef9fe2",
   "metadata": {},
   "outputs": [],
   "source": []
  },
  {
   "cell_type": "markdown",
   "id": "fab6b8de",
   "metadata": {},
   "source": []
  },
  {
   "cell_type": "code",
   "execution_count": null,
   "id": "421dc455",
   "metadata": {},
   "outputs": [],
   "source": []
  },
  {
   "cell_type": "raw",
   "id": "f626e9a3",
   "metadata": {},
   "source": []
  },
  {
   "cell_type": "markdown",
   "id": "90819d52",
   "metadata": {},
   "source": []
  },
  {
   "cell_type": "code",
   "execution_count": null,
   "id": "d5964319",
   "metadata": {},
   "outputs": [],
   "source": []
  },
  {
   "cell_type": "raw",
   "id": "c1e491f5",
   "metadata": {},
   "source": []
  },
  {
   "cell_type": "code",
   "execution_count": 8,
   "id": "8d0dc08b",
   "metadata": {},
   "outputs": [],
   "source": []
  },
  {
   "cell_type": "raw",
   "id": "8a36c120",
   "metadata": {},
   "source": []
  },
  {
   "cell_type": "raw",
   "id": "a7699ce4",
   "metadata": {},
   "source": []
  },
  {
   "cell_type": "code",
   "execution_count": null,
   "id": "19720e06",
   "metadata": {},
   "outputs": [],
   "source": []
  }
 ],
 "metadata": {
  "kernelspec": {
   "display_name": "Python 3",
   "language": "python",
   "name": "python3"
  },
  "language_info": {
   "codemirror_mode": {
    "name": "ipython",
    "version": 3
   },
   "file_extension": ".py",
   "mimetype": "text/x-python",
   "name": "python",
   "nbconvert_exporter": "python",
   "pygments_lexer": "ipython3",
   "version": "3.8.8"
  }
 },
 "nbformat": 4,
 "nbformat_minor": 5
}
