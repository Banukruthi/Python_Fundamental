{
 "cells": [
  {
   "cell_type": "code",
   "execution_count": null,
   "id": "1fe2a72a",
   "metadata": {},
   "outputs": [],
   "source": [
    "Introduction to conditional statements:"
   ]
  },
  {
   "cell_type": "code",
   "execution_count": null,
   "id": "943d217e",
   "metadata": {},
   "outputs": [],
   "source": [
    "By occurance of ceratin comditions the output will be decided"
   ]
  },
  {
   "cell_type": "code",
   "execution_count": null,
   "id": "37e993e6",
   "metadata": {},
   "outputs": [],
   "source": []
  },
  {
   "cell_type": "code",
   "execution_count": 1,
   "id": "3a9a06d2",
   "metadata": {},
   "outputs": [],
   "source": [
    "cars = ['maruthi', 'kia', 'bmw', 'audi', 'benz']"
   ]
  },
  {
   "cell_type": "code",
   "execution_count": 2,
   "id": "ffa335f7",
   "metadata": {},
   "outputs": [
    {
     "name": "stdout",
     "output_type": "stream",
     "text": [
      "['maruthi', 'kia', 'bmw', 'audi', 'benz']\n"
     ]
    }
   ],
   "source": [
    "print(cars)"
   ]
  },
  {
   "cell_type": "code",
   "execution_count": null,
   "id": "f3a2e0d2",
   "metadata": {},
   "outputs": [],
   "source": []
  },
  {
   "cell_type": "code",
   "execution_count": null,
   "id": "a3a0bea9",
   "metadata": {},
   "outputs": [],
   "source": [
    "#req : i want to print all the cars in title case, except bmw want to print in capitals how to do?"
   ]
  },
  {
   "cell_type": "code",
   "execution_count": null,
   "id": "80b4dd34",
   "metadata": {},
   "outputs": [],
   "source": []
  },
  {
   "cell_type": "code",
   "execution_count": null,
   "id": "31bdaf49",
   "metadata": {},
   "outputs": [],
   "source": [
    "for tempvar in maninvar:\n",
    "    print(tempvar)"
   ]
  },
  {
   "cell_type": "code",
   "execution_count": 4,
   "id": "89107f95",
   "metadata": {},
   "outputs": [
    {
     "name": "stdout",
     "output_type": "stream",
     "text": [
      "Maruthi\n",
      "Kia\n",
      "Bmw\n",
      "Audi\n",
      "Benz\n"
     ]
    }
   ],
   "source": [
    "for x in cars:\n",
    "    if x == 'bwm':\n",
    "        print(x.upper())\n",
    "    else:\n",
    "        print(x.title())"
   ]
  },
  {
   "cell_type": "code",
   "execution_count": null,
   "id": "47f4366f",
   "metadata": {},
   "outputs": [],
   "source": []
  },
  {
   "cell_type": "code",
   "execution_count": null,
   "id": "91767a9a",
   "metadata": {},
   "outputs": [],
   "source": [
    "Accepting the user input:\n",
    "    input ----> is the keyword that we will be using"
   ]
  },
  {
   "cell_type": "code",
   "execution_count": null,
   "id": "fca50078",
   "metadata": {},
   "outputs": [],
   "source": [
    "# how exactly the machine is accepting the input from the user(eg:ATM)"
   ]
  },
  {
   "cell_type": "code",
   "execution_count": null,
   "id": "9bc7a83f",
   "metadata": {},
   "outputs": [],
   "source": []
  },
  {
   "cell_type": "code",
   "execution_count": 5,
   "id": "96906100",
   "metadata": {},
   "outputs": [
    {
     "name": "stdout",
     "output_type": "stream",
     "text": [
      "tell me something and i will repeat it back for youhi how are you\n",
      "hi how are you\n"
     ]
    }
   ],
   "source": [
    "message = input(\"tell me something and i will repeat it back for you\")\n",
    "print(message)"
   ]
  },
  {
   "cell_type": "code",
   "execution_count": null,
   "id": "dbfdc06f",
   "metadata": {},
   "outputs": [],
   "source": [
    "Req : Greeting the user."
   ]
  },
  {
   "cell_type": "code",
   "execution_count": null,
   "id": "c6023c69",
   "metadata": {},
   "outputs": [],
   "source": [
    "prompt = input(\"enter your name :\")\n",
    "\n",
    "print(f\"welcome, {prompt}\")"
   ]
  },
  {
   "cell_type": "code",
   "execution_count": null,
   "id": "19b18ca1",
   "metadata": {},
   "outputs": [],
   "source": []
  },
  {
   "cell_type": "code",
   "execution_count": null,
   "id": "e8f30c5c",
   "metadata": {},
   "outputs": [],
   "source": [
    "prompt = input(\"enter your full name :\")\n",
    "\n",
    "print(f\"welcome to the pyhton class, {prompt}\")"
   ]
  },
  {
   "cell_type": "code",
   "execution_count": null,
   "id": "1341acbf",
   "metadata": {},
   "outputs": [],
   "source": [
    "prompt = input(\"please enter your name: \")\n",
    "\n",
    "print(f\"welcome, {prompt}\")"
   ]
  },
  {
   "cell_type": "code",
   "execution_count": null,
   "id": "0ecce984",
   "metadata": {},
   "outputs": [],
   "source": []
  },
  {
   "cell_type": "code",
   "execution_count": null,
   "id": "140f2ec8",
   "metadata": {},
   "outputs": [],
   "source": []
  },
  {
   "cell_type": "code",
   "execution_count": null,
   "id": "c4ab770f",
   "metadata": {},
   "outputs": [],
   "source": [
    "\n"
   ]
  },
  {
   "cell_type": "code",
   "execution_count": null,
   "id": "f0e44fd4",
   "metadata": {},
   "outputs": [],
   "source": []
  }
 ],
 "metadata": {
  "kernelspec": {
   "display_name": "Python 3",
   "language": "python",
   "name": "python3"
  },
  "language_info": {
   "codemirror_mode": {
    "name": "ipython",
    "version": 3
   },
   "file_extension": ".py",
   "mimetype": "text/x-python",
   "name": "python",
   "nbconvert_exporter": "python",
   "pygments_lexer": "ipython3",
   "version": "3.8.8"
  }
 },
 "nbformat": 4,
 "nbformat_minor": 5
}
