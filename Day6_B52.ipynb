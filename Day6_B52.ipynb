{
 "cells": [
  {
   "cell_type": "code",
   "execution_count": null,
   "id": "156a6279",
   "metadata": {},
   "outputs": [],
   "source": [
    "Introduction to looping statements:****"
   ]
  },
  {
   "cell_type": "code",
   "execution_count": null,
   "id": "babba69d",
   "metadata": {},
   "outputs": [],
   "source": []
  },
  {
   "cell_type": "code",
   "execution_count": 1,
   "id": "b76c7dae",
   "metadata": {},
   "outputs": [],
   "source": [
    "students =['kruthika', 'swarna', 'pavithra', 'manoj', 'madhu', 'laasya']"
   ]
  },
  {
   "cell_type": "code",
   "execution_count": 2,
   "id": "0952e3ac",
   "metadata": {},
   "outputs": [
    {
     "name": "stdout",
     "output_type": "stream",
     "text": [
      "['kruthika', 'swarna', 'pavithra', 'manoj', 'madhu', 'laasya']\n"
     ]
    }
   ],
   "source": [
    "print(students)"
   ]
  },
  {
   "cell_type": "code",
   "execution_count": 3,
   "id": "4f208f32",
   "metadata": {},
   "outputs": [
    {
     "data": {
      "text/plain": [
       "list"
      ]
     },
     "execution_count": 3,
     "metadata": {},
     "output_type": "execute_result"
    }
   ],
   "source": [
    "type(students)"
   ]
  },
  {
   "cell_type": "code",
   "execution_count": null,
   "id": "1aafc78c",
   "metadata": {},
   "outputs": [],
   "source": []
  },
  {
   "cell_type": "code",
   "execution_count": null,
   "id": "ced08dbb",
   "metadata": {},
   "outputs": [],
   "source": [
    "#req : i want to appreciate all the students in the list"
   ]
  },
  {
   "cell_type": "code",
   "execution_count": null,
   "id": "755127d5",
   "metadata": {},
   "outputs": [],
   "source": []
  },
  {
   "cell_type": "code",
   "execution_count": 4,
   "id": "613384df",
   "metadata": {},
   "outputs": [
    {
     "name": "stdout",
     "output_type": "stream",
     "text": [
      "keep up the good work, kruthika\n"
     ]
    }
   ],
   "source": [
    "print(f\"keep up the good work, {students[0]}\")"
   ]
  },
  {
   "cell_type": "code",
   "execution_count": 8,
   "id": "87fb7802",
   "metadata": {},
   "outputs": [
    {
     "name": "stdout",
     "output_type": "stream",
     "text": [
      "keep up the good work, Swarna\n"
     ]
    }
   ],
   "source": [
    "print(f\"keep up the good work, {students[1].title()}\")"
   ]
  },
  {
   "cell_type": "code",
   "execution_count": 9,
   "id": "90cf48ee",
   "metadata": {},
   "outputs": [
    {
     "name": "stdout",
     "output_type": "stream",
     "text": [
      "keep up the good work, Pavithra\n"
     ]
    }
   ],
   "source": [
    "print(f\"keep up the good work, {students[2].title()}\")"
   ]
  },
  {
   "cell_type": "code",
   "execution_count": 10,
   "id": "51d3cdcb",
   "metadata": {},
   "outputs": [
    {
     "name": "stdout",
     "output_type": "stream",
     "text": [
      "keep up the good work, Kruthika\n"
     ]
    }
   ],
   "source": [
    "print(f\"keep up the good work, {students[0].title()}\")"
   ]
  },
  {
   "cell_type": "code",
   "execution_count": null,
   "id": "dc84d4ae",
   "metadata": {},
   "outputs": [],
   "source": []
  },
  {
   "cell_type": "code",
   "execution_count": null,
   "id": "4ecb6111",
   "metadata": {},
   "outputs": [],
   "source": [
    "#req ; i want to appreciate all the students in a single query"
   ]
  },
  {
   "cell_type": "code",
   "execution_count": null,
   "id": "527edbf8",
   "metadata": {},
   "outputs": [],
   "source": [
    "# general syntax of list data type"
   ]
  },
  {
   "cell_type": "code",
   "execution_count": null,
   "id": "3caa4716",
   "metadata": {},
   "outputs": [],
   "source": [
    "for tempvar in mainvar:\n",
    "    print(tempvar)"
   ]
  },
  {
   "cell_type": "code",
   "execution_count": null,
   "id": "f64f01e2",
   "metadata": {},
   "outputs": [],
   "source": [
    "here the tempvar ----> it is a temporary variable, we can use whatever we want\n",
    "mainvar ------> here studnets is our main variable"
   ]
  },
  {
   "cell_type": "code",
   "execution_count": null,
   "id": "6a4835b9",
   "metadata": {},
   "outputs": [],
   "source": [
    "students =['kruthika', 'swarna', 'pavithra', 'manoj', 'madhu', 'laasya'] # here students is the mainvar"
   ]
  },
  {
   "cell_type": "code",
   "execution_count": 11,
   "id": "c187fd60",
   "metadata": {},
   "outputs": [
    {
     "name": "stdout",
     "output_type": "stream",
     "text": [
      "keep up te good work, Kruthika\n",
      "keep up te good work, Swarna\n",
      "keep up te good work, Pavithra\n",
      "keep up te good work, Manoj\n",
      "keep up te good work, Madhu\n",
      "keep up te good work, Laasya\n"
     ]
    }
   ],
   "source": [
    "for x in students:\n",
    "    print(f\"keep up te good work, {x.title()}\")"
   ]
  },
  {
   "cell_type": "code",
   "execution_count": null,
   "id": "dbdfef01",
   "metadata": {},
   "outputs": [],
   "source": []
  },
  {
   "cell_type": "code",
   "execution_count": 12,
   "id": "db6d59b3",
   "metadata": {},
   "outputs": [
    {
     "name": "stdout",
     "output_type": "stream",
     "text": [
      "welcome to the python world, Kruthika\n",
      "welcome to the python world, Swarna\n",
      "welcome to the python world, Pavithra\n",
      "welcome to the python world, Manoj\n",
      "welcome to the python world, Madhu\n",
      "welcome to the python world, Laasya\n"
     ]
    }
   ],
   "source": [
    "for flower in students:\n",
    "    print(f\"welcome to the python world, {flower.title()}\")  # indentation"
   ]
  },
  {
   "cell_type": "code",
   "execution_count": null,
   "id": "4e1ba8d1",
   "metadata": {},
   "outputs": [],
   "source": [
    "here flower ---> tempvar\n",
    "students -----> mainvar\n",
    "the space which is before print is complusary in python what happens if we remove space, we have to use indentation in for"
   ]
  },
  {
   "cell_type": "code",
   "execution_count": null,
   "id": "a87ee05c",
   "metadata": {},
   "outputs": [],
   "source": []
  },
  {
   "cell_type": "code",
   "execution_count": 13,
   "id": "9a87f599",
   "metadata": {},
   "outputs": [
    {
     "ename": "IndentationError",
     "evalue": "expected an indented block (<ipython-input-13-db1ea76c66c1>, line 2)",
     "output_type": "error",
     "traceback": [
      "\u001b[1;36m  File \u001b[1;32m\"<ipython-input-13-db1ea76c66c1>\"\u001b[1;36m, line \u001b[1;32m2\u001b[0m\n\u001b[1;33m    print(f\"welcome to the python world, {flower.title()}\")\u001b[0m\n\u001b[1;37m    ^\u001b[0m\n\u001b[1;31mIndentationError\u001b[0m\u001b[1;31m:\u001b[0m expected an indented block\n"
     ]
    }
   ],
   "source": [
    "for flower in students:\n",
    "print(f\"welcome to the python world, {flower.title()}\") "
   ]
  },
  {
   "cell_type": "code",
   "execution_count": 14,
   "id": "ebe12e38",
   "metadata": {},
   "outputs": [
    {
     "name": "stdout",
     "output_type": "stream",
     "text": [
      "keep up the good work, Kruthika\n",
      "please do send me the practice file of today, Kruthika\n",
      "keep up the good work, Swarna\n",
      "please do send me the practice file of today, Swarna\n",
      "keep up the good work, Pavithra\n",
      "please do send me the practice file of today, Pavithra\n",
      "keep up the good work, Manoj\n",
      "please do send me the practice file of today, Manoj\n",
      "keep up the good work, Madhu\n",
      "please do send me the practice file of today, Madhu\n",
      "keep up the good work, Laasya\n",
      "please do send me the practice file of today, Laasya\n"
     ]
    }
   ],
   "source": [
    "for x in students:\n",
    "    print(f\"keep up the good work, {x.title()}\")\n",
    "    print(f\"please do send me the practice file of today, {x.title()}\")"
   ]
  },
  {
   "cell_type": "code",
   "execution_count": null,
   "id": "0efdf379",
   "metadata": {},
   "outputs": [],
   "source": [
    "# enhancement of the code:"
   ]
  },
  {
   "cell_type": "code",
   "execution_count": 15,
   "id": "b6785a6f",
   "metadata": {},
   "outputs": [
    {
     "name": "stdout",
     "output_type": "stream",
     "text": [
      "keep up the good work, Kruthika\n",
      "please do send me the practice file of today, Kruthika.\n",
      "\n",
      "keep up the good work, Swarna\n",
      "please do send me the practice file of today, Swarna.\n",
      "\n",
      "keep up the good work, Pavithra\n",
      "please do send me the practice file of today, Pavithra.\n",
      "\n",
      "keep up the good work, Manoj\n",
      "please do send me the practice file of today, Manoj.\n",
      "\n",
      "keep up the good work, Madhu\n",
      "please do send me the practice file of today, Madhu.\n",
      "\n",
      "keep up the good work, Laasya\n",
      "please do send me the practice file of today, Laasya.\n",
      "\n"
     ]
    }
   ],
   "source": [
    "for x in students:\n",
    "    print(f\"keep up the good work, {x.title()}\")\n",
    "    print(f\"please do send me the practice file of today, {x.title()}.\\n\")"
   ]
  },
  {
   "cell_type": "code",
   "execution_count": null,
   "id": "5c96a57f",
   "metadata": {},
   "outputs": [],
   "source": [
    "now the above output is in the right format"
   ]
  },
  {
   "cell_type": "code",
   "execution_count": null,
   "id": "f8c141e1",
   "metadata": {},
   "outputs": [],
   "source": []
  },
  {
   "cell_type": "code",
   "execution_count": 18,
   "id": "bb91ec0c",
   "metadata": {},
   "outputs": [
    {
     "name": "stdout",
     "output_type": "stream",
     "text": [
      "keep up the god work, Kruthika\n",
      "please do send me the practice file of today, Kruthika.\n",
      "\n",
      "keep up the god work, Swarna\n",
      "please do send me the practice file of today, Swarna.\n",
      "\n",
      "keep up the god work, Pavithra\n",
      "please do send me the practice file of today, Pavithra.\n",
      "\n",
      "keep up the god work, Manoj\n",
      "please do send me the practice file of today, Manoj.\n",
      "\n",
      "keep up the god work, Madhu\n",
      "please do send me the practice file of today, Madhu.\n",
      "\n",
      "keep up the god work, Laasya\n",
      "please do send me the practice file of today, Laasya.\n",
      "\n",
      "Thank you all for showing interest in learnng python\n"
     ]
    }
   ],
   "source": [
    "for x in students:\n",
    "    print(f\"keep up the god work, {x.title()}\")   # in the loop\n",
    "    print(f\"please do send me the practice file of today, {x.title()}.\\n\")\n",
    "    \n",
    "print(f\"Thank you all for showing interest in learnng python\")   # out of the loop"
   ]
  },
  {
   "cell_type": "code",
   "execution_count": null,
   "id": "674c1795",
   "metadata": {},
   "outputs": [],
   "source": [
    "#in the loop : which is writing in the loop(it will be applied for each and every loop)\n",
    "#out of the loop : which is writing out of the loop ( it will be applied only at the end of the line)"
   ]
  },
  {
   "cell_type": "code",
   "execution_count": null,
   "id": "655d4694",
   "metadata": {},
   "outputs": [],
   "source": []
  },
  {
   "cell_type": "code",
   "execution_count": null,
   "id": "c470f0e9",
   "metadata": {},
   "outputs": [],
   "source": []
  }
 ],
 "metadata": {
  "kernelspec": {
   "display_name": "Python 3",
   "language": "python",
   "name": "python3"
  },
  "language_info": {
   "codemirror_mode": {
    "name": "ipython",
    "version": 3
   },
   "file_extension": ".py",
   "mimetype": "text/x-python",
   "name": "python",
   "nbconvert_exporter": "python",
   "pygments_lexer": "ipython3",
   "version": "3.8.8"
  }
 },
 "nbformat": 4,
 "nbformat_minor": 5
}
