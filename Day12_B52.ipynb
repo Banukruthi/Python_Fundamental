{
 "cells": [
  {
   "cell_type": "code",
   "execution_count": null,
   "id": "599295b4",
   "metadata": {},
   "outputs": [],
   "source": [
    "Introduction to constructor:***"
   ]
  },
  {
   "cell_type": "code",
   "execution_count": null,
   "id": "bfa208f5",
   "metadata": {},
   "outputs": [],
   "source": [
    "It is called as a special method or magical method\n",
    "It is used to initialize the attributes\n",
    "\n",
    "how to define the constructor\n",
    "def __init__()"
   ]
  },
  {
   "cell_type": "code",
   "execution_count": null,
   "id": "63ec564c",
   "metadata": {},
   "outputs": [],
   "source": []
  },
  {
   "cell_type": "code",
   "execution_count": null,
   "id": "ee60c693",
   "metadata": {},
   "outputs": [],
   "source": [
    "# create a Dog class with the below methods\n",
    "# accept hte input name and age of the dog.\n",
    "#1. jump\n",
    "#2. rollover\n",
    "#3. eat\n",
    "#4. sleep\n",
    "#5. deetails"
   ]
  },
  {
   "cell_type": "code",
   "execution_count": null,
   "id": "401c30bf",
   "metadata": {},
   "outputs": [],
   "source": []
  },
  {
   "cell_type": "code",
   "execution_count": 11,
   "id": "e91c1f5f",
   "metadata": {},
   "outputs": [],
   "source": [
    "class Dog:\n",
    "    \n",
    "    def __init__(self,name,age):   # it containas all the important parameters\n",
    "        self.name = name\n",
    "        self.age = age\n",
    "        \n",
    "    def jump(self):\n",
    "        print(f\"{self.name} is now jumping on the command\")\n",
    "        \n",
    "    def rollover(self):\n",
    "        print(f\"{self.name} is now rolling over on the command\")\n",
    "        \n",
    "    def eat(self):\n",
    "        print(f\"{self.name} is now eating\")\n",
    "        \n",
    "    def sleep(self):\n",
    "        print(f\"{self.name} is now sleeping\")\n",
    "        \n",
    "    def details(self):\n",
    "        print(f\"My dog name is {self.name}\")\n",
    "        print(f\"{self.name} is of {self.age} years old\")\n",
    "              "
   ]
  },
  {
   "cell_type": "code",
   "execution_count": null,
   "id": "eec70ddc",
   "metadata": {},
   "outputs": [],
   "source": []
  },
  {
   "cell_type": "code",
   "execution_count": 12,
   "id": "a8683fd7",
   "metadata": {},
   "outputs": [],
   "source": [
    "test = Dog('jubie', 5)"
   ]
  },
  {
   "cell_type": "code",
   "execution_count": 13,
   "id": "3ef45298",
   "metadata": {},
   "outputs": [
    {
     "name": "stdout",
     "output_type": "stream",
     "text": [
      "jubie is now jumping on the command\n"
     ]
    }
   ],
   "source": [
    "test.jump()"
   ]
  },
  {
   "cell_type": "code",
   "execution_count": 14,
   "id": "cf8af648",
   "metadata": {},
   "outputs": [
    {
     "name": "stdout",
     "output_type": "stream",
     "text": [
      "jubie is now rolling over on the command\n"
     ]
    }
   ],
   "source": [
    "test.rollover()"
   ]
  },
  {
   "cell_type": "code",
   "execution_count": 15,
   "id": "642853cd",
   "metadata": {},
   "outputs": [
    {
     "name": "stdout",
     "output_type": "stream",
     "text": [
      "jubie is now eating\n"
     ]
    }
   ],
   "source": [
    "test.eat()"
   ]
  },
  {
   "cell_type": "code",
   "execution_count": 16,
   "id": "044e4ab9",
   "metadata": {},
   "outputs": [
    {
     "name": "stdout",
     "output_type": "stream",
     "text": [
      "jubie is now sleeping\n"
     ]
    }
   ],
   "source": [
    "test.sleep()"
   ]
  },
  {
   "cell_type": "code",
   "execution_count": 17,
   "id": "d78b9809",
   "metadata": {},
   "outputs": [
    {
     "name": "stdout",
     "output_type": "stream",
     "text": [
      "My dog name is jubie\n",
      "jubie is of 5 years old\n"
     ]
    }
   ],
   "source": [
    "test.details()"
   ]
  },
  {
   "cell_type": "code",
   "execution_count": null,
   "id": "abe0f409",
   "metadata": {},
   "outputs": [],
   "source": []
  },
  {
   "cell_type": "code",
   "execution_count": 19,
   "id": "f54007c5",
   "metadata": {},
   "outputs": [],
   "source": [
    "animal = Dog('gundu', 10)"
   ]
  },
  {
   "cell_type": "code",
   "execution_count": 20,
   "id": "2014f27d",
   "metadata": {},
   "outputs": [
    {
     "name": "stdout",
     "output_type": "stream",
     "text": [
      "gundu is now jumping on the command\n"
     ]
    }
   ],
   "source": [
    "animal.jump()"
   ]
  },
  {
   "cell_type": "code",
   "execution_count": 21,
   "id": "f89f5821",
   "metadata": {},
   "outputs": [
    {
     "name": "stdout",
     "output_type": "stream",
     "text": [
      "gundu is now rolling over on the command\n"
     ]
    }
   ],
   "source": [
    "animal.rollover()"
   ]
  },
  {
   "cell_type": "code",
   "execution_count": 22,
   "id": "1364d403",
   "metadata": {},
   "outputs": [
    {
     "name": "stdout",
     "output_type": "stream",
     "text": [
      "gundu is now eating\n"
     ]
    }
   ],
   "source": [
    "animal.eat()"
   ]
  },
  {
   "cell_type": "code",
   "execution_count": 23,
   "id": "58b76a83",
   "metadata": {},
   "outputs": [
    {
     "name": "stdout",
     "output_type": "stream",
     "text": [
      "gundu is now sleeping\n"
     ]
    }
   ],
   "source": [
    "animal.sleep()"
   ]
  },
  {
   "cell_type": "code",
   "execution_count": 24,
   "id": "b1f3329e",
   "metadata": {},
   "outputs": [
    {
     "name": "stdout",
     "output_type": "stream",
     "text": [
      "My dog name is gundu\n",
      "gundu is of 10 years old\n"
     ]
    }
   ],
   "source": [
    "animal.details()"
   ]
  },
  {
   "cell_type": "code",
   "execution_count": null,
   "id": "bea4ed03",
   "metadata": {},
   "outputs": [],
   "source": []
  }
 ],
 "metadata": {
  "kernelspec": {
   "display_name": "Python 3",
   "language": "python",
   "name": "python3"
  },
  "language_info": {
   "codemirror_mode": {
    "name": "ipython",
    "version": 3
   },
   "file_extension": ".py",
   "mimetype": "text/x-python",
   "name": "python",
   "nbconvert_exporter": "python",
   "pygments_lexer": "ipython3",
   "version": "3.8.8"
  }
 },
 "nbformat": 4,
 "nbformat_minor": 5
}
