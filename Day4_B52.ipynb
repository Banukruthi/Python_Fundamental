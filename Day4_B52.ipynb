{
 "cells": [
  {
   "cell_type": "code",
   "execution_count": null,
   "id": "bf408f22",
   "metadata": {},
   "outputs": [],
   "source": [
    "Introduction to list datatype:"
   ]
  },
  {
   "cell_type": "code",
   "execution_count": null,
   "id": "96b0f1d3",
   "metadata": {},
   "outputs": [],
   "source": [
    "Definition : A list is a collection of items in a particular order"
   ]
  },
  {
   "cell_type": "code",
   "execution_count": null,
   "id": "f7ff8045",
   "metadata": {},
   "outputs": [],
   "source": [
    "Classification : It is classified as mutable datatype"
   ]
  },
  {
   "cell_type": "code",
   "execution_count": null,
   "id": "fb03f6fa",
   "metadata": {},
   "outputs": [],
   "source": [
    "How do you declare a list -----> [] ---> square brackets"
   ]
  },
  {
   "cell_type": "code",
   "execution_count": 1,
   "id": "a094fad5",
   "metadata": {},
   "outputs": [
    {
     "name": "stdout",
     "output_type": "stream",
     "text": [
      "['naveen', 'kranthi', 'hameed', 'john', 'farheen', 'swetha']\n"
     ]
    }
   ],
   "source": [
    "students = ['naveen', 'kranthi', 'hameed', 'john', 'farheen', 'swetha']  # 0,1,2,3,4,5 -----> indexes\n",
    "print(students)"
   ]
  },
  {
   "cell_type": "code",
   "execution_count": null,
   "id": "fc228a30",
   "metadata": {},
   "outputs": [],
   "source": [
    "which data type is used to validate the datatype -----> Answer is type"
   ]
  },
  {
   "cell_type": "code",
   "execution_count": 2,
   "id": "0917d11d",
   "metadata": {},
   "outputs": [
    {
     "data": {
      "text/plain": [
       "list"
      ]
     },
     "execution_count": 2,
     "metadata": {},
     "output_type": "execute_result"
    }
   ],
   "source": [
    "type(students)"
   ]
  },
  {
   "cell_type": "code",
   "execution_count": 3,
   "id": "c820e8db",
   "metadata": {},
   "outputs": [
    {
     "name": "stdout",
     "output_type": "stream",
     "text": [
      "['naveen', 'kranthi', 'hameed', 'john', 'farheen', 'swetha']\n"
     ]
    }
   ],
   "source": [
    "print(students)"
   ]
  },
  {
   "cell_type": "code",
   "execution_count": null,
   "id": "73c84d46",
   "metadata": {},
   "outputs": [],
   "source": [
    "# how to access the elements from the list.....?"
   ]
  },
  {
   "cell_type": "code",
   "execution_count": null,
   "id": "ea80fa52",
   "metadata": {},
   "outputs": [],
   "source": [
    "using indexing we can access the elements from the list"
   ]
  },
  {
   "cell_type": "code",
   "execution_count": null,
   "id": "e6c68ead",
   "metadata": {},
   "outputs": [],
   "source": [
    "indexing : 0,1,2,3,4,5......"
   ]
  },
  {
   "cell_type": "code",
   "execution_count": 4,
   "id": "faabc169",
   "metadata": {},
   "outputs": [
    {
     "name": "stdout",
     "output_type": "stream",
     "text": [
      "kranthi\n"
     ]
    }
   ],
   "source": [
    "print(students[1])"
   ]
  },
  {
   "cell_type": "code",
   "execution_count": null,
   "id": "e71ad8c4",
   "metadata": {},
   "outputs": [],
   "source": [
    "here the ouput is kranthi  means it is printing the item which is present on index 1"
   ]
  },
  {
   "cell_type": "code",
   "execution_count": 5,
   "id": "32bf052f",
   "metadata": {},
   "outputs": [
    {
     "name": "stdout",
     "output_type": "stream",
     "text": [
      "john\n"
     ]
    }
   ],
   "source": [
    "print(students[3])"
   ]
  },
  {
   "cell_type": "code",
   "execution_count": null,
   "id": "8c9eff90",
   "metadata": {},
   "outputs": [],
   "source": [
    "if we want to print a name john in the correct format"
   ]
  },
  {
   "cell_type": "code",
   "execution_count": 6,
   "id": "bcba9776",
   "metadata": {},
   "outputs": [
    {
     "name": "stdout",
     "output_type": "stream",
     "text": [
      "John\n"
     ]
    }
   ],
   "source": [
    "print(students[3].title())"
   ]
  },
  {
   "cell_type": "code",
   "execution_count": null,
   "id": "fbd362ce",
   "metadata": {},
   "outputs": [],
   "source": []
  },
  {
   "cell_type": "code",
   "execution_count": null,
   "id": "12d70d94",
   "metadata": {},
   "outputs": [],
   "source": [
    "1. How to add new elements to the list\n",
    "2. How to modify the elements in the list\n",
    "3. How to delete the elements in the list"
   ]
  },
  {
   "cell_type": "code",
   "execution_count": null,
   "id": "d0388aac",
   "metadata": {},
   "outputs": [],
   "source": []
  },
  {
   "cell_type": "code",
   "execution_count": 7,
   "id": "c7d4c29a",
   "metadata": {},
   "outputs": [
    {
     "name": "stdout",
     "output_type": "stream",
     "text": [
      "['naveen', 'kranthi', 'hameed', 'john', 'farheen', 'swetha']\n"
     ]
    }
   ],
   "source": [
    "print(students)"
   ]
  },
  {
   "cell_type": "code",
   "execution_count": null,
   "id": "52afd527",
   "metadata": {},
   "outputs": [],
   "source": [
    "# req: i want to add rafi to the above list?"
   ]
  },
  {
   "cell_type": "code",
   "execution_count": null,
   "id": "10efceb9",
   "metadata": {},
   "outputs": [],
   "source": []
  },
  {
   "cell_type": "code",
   "execution_count": 9,
   "id": "96af0595",
   "metadata": {},
   "outputs": [
    {
     "name": "stdout",
     "output_type": "stream",
     "text": [
      "['naveen', 'kranthi', 'hameed', 'john', 'farheen', 'swetha', 'rafi']\n"
     ]
    }
   ],
   "source": [
    "students.append('rafi')\n",
    "print(students)"
   ]
  },
  {
   "cell_type": "code",
   "execution_count": null,
   "id": "8fa813aa",
   "metadata": {},
   "outputs": [],
   "source": [
    "# req: i want to add kruthi to the above list"
   ]
  },
  {
   "cell_type": "code",
   "execution_count": 10,
   "id": "00f8fa94",
   "metadata": {},
   "outputs": [
    {
     "name": "stdout",
     "output_type": "stream",
     "text": [
      "['naveen', 'kranthi', 'hameed', 'john', 'farheen', 'swetha', 'rafi', 'kruthi']\n"
     ]
    }
   ],
   "source": [
    "students.append('kruthi')\n",
    "print(students)"
   ]
  },
  {
   "cell_type": "code",
   "execution_count": null,
   "id": "2faedc90",
   "metadata": {},
   "outputs": [],
   "source": [
    "here from the above two ouputs we observed that the item whichever we are adding to the list that will be added at the end"
   ]
  },
  {
   "cell_type": "code",
   "execution_count": null,
   "id": "4fcf5e7e",
   "metadata": {},
   "outputs": [],
   "source": [
    "# req: i want to add kiran to the 3rd index"
   ]
  },
  {
   "cell_type": "code",
   "execution_count": 24,
   "id": "5ab10f41",
   "metadata": {},
   "outputs": [],
   "source": []
  },
  {
   "cell_type": "code",
   "execution_count": 25,
   "id": "5676d2ea",
   "metadata": {},
   "outputs": [],
   "source": []
  },
  {
   "cell_type": "code",
   "execution_count": 26,
   "id": "ad21ccce",
   "metadata": {},
   "outputs": [
    {
     "name": "stdout",
     "output_type": "stream",
     "text": [
      "['namita', 'kranthi', 'kiran', 'kiran', 'kiran', 'kiran', 'kiran', 'kiran', 'kiran', 'hameed', 'john', 'farheen', 'swetha', 'rafi', 'kruthi']\n"
     ]
    }
   ],
   "source": [
    "students.insert(3,'kiran')\n",
    "print(students)"
   ]
  },
  {
   "cell_type": "code",
   "execution_count": null,
   "id": "9fc99b3c",
   "metadata": {},
   "outputs": [],
   "source": []
  },
  {
   "cell_type": "code",
   "execution_count": null,
   "id": "fae20fa9",
   "metadata": {},
   "outputs": [],
   "source": []
  },
  {
   "cell_type": "code",
   "execution_count": null,
   "id": "6364e774",
   "metadata": {},
   "outputs": [],
   "source": [
    "form the above output the name kiran which is added in the 2nd index"
   ]
  },
  {
   "cell_type": "code",
   "execution_count": null,
   "id": "fdb2b23b",
   "metadata": {},
   "outputs": [],
   "source": [
    "# Interview questin: what is the difference between append and insert in the list "
   ]
  },
  {
   "cell_type": "code",
   "execution_count": null,
   "id": "701d629b",
   "metadata": {},
   "outputs": [],
   "source": [
    "the append will add the item whichever we want to it will add at the end but te insert will help us to add the item to the point where we will mention it to add"
   ]
  },
  {
   "cell_type": "code",
   "execution_count": null,
   "id": "94055b0b",
   "metadata": {},
   "outputs": [],
   "source": []
  },
  {
   "cell_type": "code",
   "execution_count": 13,
   "id": "2c98ca73",
   "metadata": {},
   "outputs": [
    {
     "name": "stdout",
     "output_type": "stream",
     "text": [
      "['naveen', 'kranthi', 'kiran', 'kiran', 'hameed', 'john', 'farheen', 'swetha', 'rafi', 'kruthi']\n"
     ]
    }
   ],
   "source": [
    "print(students)"
   ]
  },
  {
   "cell_type": "code",
   "execution_count": 14,
   "id": "1917fcd2",
   "metadata": {},
   "outputs": [
    {
     "name": "stdout",
     "output_type": "stream",
     "text": [
      "kiran\n"
     ]
    }
   ],
   "source": [
    "print(students[2])"
   ]
  },
  {
   "cell_type": "code",
   "execution_count": null,
   "id": "fb7e051f",
   "metadata": {},
   "outputs": [],
   "source": [
    "# how to modify the elements in the list?"
   ]
  },
  {
   "cell_type": "code",
   "execution_count": 15,
   "id": "92f3c9ee",
   "metadata": {},
   "outputs": [
    {
     "name": "stdout",
     "output_type": "stream",
     "text": [
      "['naveen', 'kranthi', 'kiran', 'kiran', 'hameed', 'john', 'farheen', 'swetha', 'rafi', 'kruthi']\n"
     ]
    }
   ],
   "source": [
    "print(students)"
   ]
  },
  {
   "cell_type": "code",
   "execution_count": null,
   "id": "0861f045",
   "metadata": {},
   "outputs": [],
   "source": [
    "#req: i want to modify naveen name to namita?"
   ]
  },
  {
   "cell_type": "code",
   "execution_count": 16,
   "id": "31b4960c",
   "metadata": {},
   "outputs": [
    {
     "name": "stdout",
     "output_type": "stream",
     "text": [
      "['namita', 'kranthi', 'kiran', 'kiran', 'hameed', 'john', 'farheen', 'swetha', 'rafi', 'kruthi']\n"
     ]
    }
   ],
   "source": [
    "students[0] = 'namita'\n",
    "print(students)"
   ]
  },
  {
   "cell_type": "code",
   "execution_count": null,
   "id": "1b5857ac",
   "metadata": {},
   "outputs": [],
   "source": [
    "From the above output naveen name is replaced by namita "
   ]
  },
  {
   "cell_type": "code",
   "execution_count": null,
   "id": "fb67e8d7",
   "metadata": {},
   "outputs": [],
   "source": []
  },
  {
   "cell_type": "code",
   "execution_count": null,
   "id": "ae054bbe",
   "metadata": {},
   "outputs": [],
   "source": [
    "3. How to delete the element in the list"
   ]
  },
  {
   "cell_type": "code",
   "execution_count": 17,
   "id": "d34d26e0",
   "metadata": {},
   "outputs": [
    {
     "name": "stdout",
     "output_type": "stream",
     "text": [
      "['namita', 'kranthi', 'kiran', 'kiran', 'hameed', 'john', 'farheen', 'swetha', 'rafi', 'kruthi']\n"
     ]
    }
   ],
   "source": [
    "print(students)"
   ]
  },
  {
   "cell_type": "code",
   "execution_count": null,
   "id": "9c0e3277",
   "metadata": {},
   "outputs": [],
   "source": [
    "#req : want to delete krannthi name is the list"
   ]
  },
  {
   "cell_type": "code",
   "execution_count": 27,
   "id": "459902fb",
   "metadata": {},
   "outputs": [
    {
     "name": "stdout",
     "output_type": "stream",
     "text": [
      "['namita', 'kiran', 'kiran', 'kiran', 'kiran', 'kiran', 'kiran', 'kiran', 'hameed', 'john', 'farheen', 'swetha', 'rafi', 'kruthi']\n"
     ]
    }
   ],
   "source": [
    "del students[1]\n",
    "print(students)"
   ]
  },
  {
   "cell_type": "code",
   "execution_count": 28,
   "id": "59ebc302",
   "metadata": {},
   "outputs": [],
   "source": [
    " del students[0]"
   ]
  },
  {
   "cell_type": "code",
   "execution_count": 29,
   "id": "2753b1f1",
   "metadata": {},
   "outputs": [
    {
     "name": "stdout",
     "output_type": "stream",
     "text": [
      "['kiran', 'kiran', 'kiran', 'kiran', 'kiran', 'kiran', 'kiran', 'hameed', 'john', 'farheen', 'swetha', 'rafi', 'kruthi']\n"
     ]
    }
   ],
   "source": [
    "print(students)"
   ]
  },
  {
   "cell_type": "code",
   "execution_count": null,
   "id": "9aa4f247",
   "metadata": {},
   "outputs": [],
   "source": []
  }
 ],
 "metadata": {
  "kernelspec": {
   "display_name": "Python 3",
   "language": "python",
   "name": "python3"
  },
  "language_info": {
   "codemirror_mode": {
    "name": "ipython",
    "version": 3
   },
   "file_extension": ".py",
   "mimetype": "text/x-python",
   "name": "python",
   "nbconvert_exporter": "python",
   "pygments_lexer": "ipython3",
   "version": "3.8.8"
  }
 },
 "nbformat": 4,
 "nbformat_minor": 5
}
